{
 "cells": [
  {
   "attachments": {},
   "cell_type": "markdown",
   "metadata": {},
   "source": [
    "<center><img src=\"https://news.illinois.edu/files/6367/543635/116641.jpg\" alt=\"University of Illinois\" width=\"250\"/></center>\n",
    "\n",
    "# Practicum Project: Tower Research NY\n",
    "\n",
    "## Cross-exchange Pricing Anomaly Detection for Crypto Market ##\n",
    "\n",
    "* Yu-Ching Liao <ycliao3@illinois.edu>"
   ]
  },
  {
   "attachments": {},
   "cell_type": "markdown",
   "metadata": {},
   "source": [
    "## Basic Import"
   ]
  },
  {
   "cell_type": "code",
   "execution_count": 1,
   "metadata": {},
   "outputs": [],
   "source": [
    "import os\n",
    "import pandas as pd\n",
    "import matplotlib.pyplot as plt\n",
    "import warnings\n",
    "import time\n",
    "import numpy as np\n",
    "\n",
    "\n",
    "warnings.filterwarnings(\"ignore\")\n",
    "\n",
    "from sklearn.metrics import mean_squared_error as MSE\n",
    "from sklearn.metrics.pairwise import euclidean_distances\n",
    "from sklearn.preprocessing import Normalizer\n",
    "from sklearn.cluster import KMeans\n",
    "from sklearn.pipeline import make_pipeline\n",
    "from sklearn.metrics import r2_score as R2\n",
    "from sklearn.metrics import mean_absolute_percentage_error as MAPE\n",
    "from time import sleep\n",
    "from tqdm import tqdm, trange\n",
    "import pandas as pd\n",
    "import requests\n",
    "import matplotlib.pyplot as plt\n",
    "from concurrent.futures import ThreadPoolExecutor, as_completed\n",
    "from matplotlib.animation import FuncAnimation,PillowWriter\n",
    "from collections import deque\n",
    "\n",
    "import timeit\n",
    "import logging\n",
    "import sys\n",
    "import datetime"
   ]
  },
  {
   "attachments": {},
   "cell_type": "markdown",
   "metadata": {},
   "source": [
    "## Defination"
   ]
  },
  {
   "attachments": {},
   "cell_type": "markdown",
   "metadata": {},
   "source": [
    "### Log. "
   ]
  },
  {
   "cell_type": "code",
   "execution_count": 2,
   "metadata": {},
   "outputs": [],
   "source": [
    "def setup_logger():\n",
    "    logger = logging.getLogger('my_logger')\n",
    "    logger.setLevel(logging.INFO)\n",
    "\n",
    "    handler = logging.StreamHandler(sys.stdout)\n",
    "    handler.setLevel(logging.INFO)\n",
    "    formatter = logging.Formatter('%(asctime)s - %(message)s')\n",
    "    handler.setFormatter(formatter)\n",
    "\n",
    "    file_handler = logging.FileHandler('logfile.log')\n",
    "    file_handler.setLevel(logging.INFO)\n",
    "    file_handler.setFormatter(formatter)\n",
    "\n",
    "    logger.handlers.clear()\n",
    "\n",
    "    logger.addHandler(handler)\n",
    "    logger.addHandler(file_handler)\n",
    "    return logger\n",
    "\n",
    "def disable_logging(logger):\n",
    "    logger.setLevel(logging.CRITICAL)\n",
    "\n",
    "def enable_logging(logger):\n",
    "    logger.setLevel(logging.INFO)"
   ]
  },
  {
   "cell_type": "code",
   "execution_count": 3,
   "metadata": {},
   "outputs": [],
   "source": [
    "# setup logger\n",
    "logger = setup_logger()\n",
    "disable_logging(logger)"
   ]
  },
  {
   "cell_type": "code",
   "execution_count": 4,
   "metadata": {},
   "outputs": [],
   "source": [
    "# create enum type\n",
    "from enum import Enum\n",
    "class VarCheckType(Enum):\n",
    "    MA = \"moving_average\"\n",
    "    \n",
    "    MEAN_STD = \"mean_std\"\n",
    "    OTHER = \"other\" "
   ]
  },
  {
   "cell_type": "code",
   "execution_count": 5,
   "metadata": {},
   "outputs": [],
   "source": [
    "# using API\n",
    "def fetch_stock_data(ticker, exchange_name, timestamp, prev_value): # will replace the data with previous if status code is not 200\n",
    "    url = 'http://localhost:8080/exchangeData'\n",
    "    query_params = {\n",
    "        \"exchangeName\": exchange_name,\n",
    "        \"symbol\": ticker,\n",
    "        \"time\": timestamp\n",
    "    }\n",
    "    response = requests.get(url, params=query_params)\n",
    "    stock_data = {'askpx': prev_value if prev_value != 0 else np.nan} # will return nan if there is no prev price\n",
    "    if response.status_code == 200:\n",
    "        #print(\"Request successful!\")\n",
    "        logger.info(f' Request to exchange {exchange_name} is successful')\n",
    "        stock_data = response.json()['data']\n",
    "    else:\n",
    "        logger.warn(f' Request to exchange {exchange_name} failed with status code {response} using previous value')\n",
    "\n",
    "    return stock_data\n",
    "\n",
    "def fetch_date(ticker):\n",
    "    url = 'http://localhost:8080/pairDates'\n",
    "    query_params = {\n",
    "        \"symbol\": ticker,\n",
    "    }\n",
    "    response = requests.get(url, params=query_params)\n",
    "    time_list = []\n",
    "    if response.status_code == 200:\n",
    "        print(\"Request successful!\")\n",
    "        time_list = response.json()['time_list']\n",
    "    else:\n",
    "        print(f\"Request failed with status code {response}\")\n",
    "    return time_list\n",
    "\n",
    "def fetch_exchanges(exchanges, ticker, timestamp ,pre_vals):\n",
    "    with ThreadPoolExecutor(max_workers=len(exchanges)) as executor:\n",
    "        futures = {executor.submit(fetch_stock_data, ticker, exchange_name, timestamp, pre_vals.get(exchange_name,np.nan)): exchange_name for exchange_name in exchanges}\n",
    "        results = {}\n",
    "        for future in as_completed(futures):\n",
    "            exchange_name = futures[future]\n",
    "            try:\n",
    "                result = future.result()\n",
    "                results[exchange_name] = result\n",
    "            except Exception as e:\n",
    "                print(f\"Error: {e}\")\n",
    "    return results\n",
    "\n",
    "def fourier_weight_amplifier(weights): # O(Nlog(N))\n",
    "    if len(weights) == 0:\n",
    "        return weights\n",
    "    # Apply the Fourier transform to the signal\n",
    "    else:\n",
    "        fourier_coeffs = np.fft.fft(weights) \n",
    "\n",
    "        # Amplify the signal by multiplying the Fourier coefficients by a constant greater than 1\n",
    "        amplification_factor = np.pi\n",
    "        amplified_fourier_coeffs = fourier_coeffs * amplification_factor\n",
    "\n",
    "        # Apply the inverse Fourier transform to obtain the amplified signal\n",
    "        amplified_signal = np.fft.ifft(amplified_fourier_coeffs)\n",
    "        \n",
    "        return amplified_signal.real"
   ]
  },
  {
   "attachments": {},
   "cell_type": "markdown",
   "metadata": {},
   "source": [
    "### Best Parameter Seeker"
   ]
  },
  {
   "cell_type": "code",
   "execution_count": 6,
   "metadata": {},
   "outputs": [],
   "source": [
    "def get_best_parameter(best_parameters_path, ticker):\n",
    "    best_parameters = pd.read_csv(best_parameters_path)\n",
    "    if ticker.replace('/', '_') in list(best_parameters['Name']):\n",
    "        return int(best_parameters[best_parameters['Name'] == ticker.replace('/', '_')]['Scoring Mins'].values[0])\n",
    "    else: \n",
    "        print(\"No Best Parameter for\", ticker, \"tested.\")\n",
    "        print(\"Please tested the parameter for this pair or check your input. \")\n",
    "        return 0"
   ]
  },
  {
   "cell_type": "code",
   "execution_count": 7,
   "metadata": {},
   "outputs": [],
   "source": [
    "class Anomaly(Enum):\n",
    "    # Qoute anomailes\n",
    "    MISSING_QOUTE = \"Missing Qoute\"\n",
    "    ASK_STALE_QOUTE = \"Ask Stale Qoute\"\n",
    "    BID_STALE_QOUTE = \"Bid Stale Qoute\"\n",
    "    NON_CONTINUOUS_QOUTE = 'Non Continuous Qoute'\n",
    "    # Price Anomailes\n",
    "    NOT_ENOUGH_EXCHANGE_DATA = 'Not Enough Exchanges Data'\n",
    "    ABNORMAL_PRICE_SPIKE = \"Abnormal Price Spike\"\n",
    "\n",
    "    # Anomailes spread\n",
    "    NEGATIVE_SPREAD = \"Negative Spread\"\n",
    "\n",
    "    # Vol Anomailes\n",
    "    ABNORMAL_VOL_SPIKE = \"Abnormal Volume Spike\"\n",
    "    VOL_ZERO_OR_NEGATIVE = \"Bid Volume Zero/Negative\"\n",
    "\n",
    "\n",
    "\n",
    "class AnomalyLv(Enum):\n",
    "    DEFAULT_LV = 0\n",
    "    WARNING_LV = 1\n",
    "    CRITICAL_LV = 2\n",
    "    "
   ]
  },
  {
   "attachments": {},
   "cell_type": "markdown",
   "metadata": {},
   "source": [
    "### Main Algorithm"
   ]
  },
  {
   "cell_type": "code",
   "execution_count": 9,
   "metadata": {},
   "outputs": [],
   "source": [
    "def cluster_pricing_tester(ticker, n_scoring_window, use_varcheck, var_path, exchanges, use_api, file_path,var_check_window = 60, use_anomalies_detection = False, anomalies_args= [2,1,1]):\n",
    "\n",
    "    # Anomalies detection variable\n",
    "    pre_vals = {} # store prev price for all exchange\n",
    "    stale_qoute_window = 10 # have to change this to user defined config\n",
    "    prev_qoutes = {}\n",
    "    volatility_window = deque(maxlen=30) # for calcualte moving voltality \n",
    "\n",
    "    # Variance Check variable\n",
    "    std_ma_window_s = deque(maxlen = var_check_window)\n",
    "    std_ma_window_l = deque(maxlen = var_check_window*12)\n",
    "    \n",
    "\n",
    "    # Clustering variable\n",
    "    scoring_window = deque(maxlen=n_scoring_window)\n",
    "    hq_exchange_scoring = {exchange_name: 0 for exchange_name in exchanges}\n",
    "    lq_exchange_scoring = {exchange_name: 0 for exchange_name in exchanges}\n",
    "    index_prices = []\n",
    "\n",
    "    # Internal variable\n",
    "    exchanges_data = {}\n",
    "    time_list = []\n",
    "    hq_lq_tuple = tuple()\n",
    "\n",
    "    # testing variable\n",
    "    start_date_index = -1\n",
    "    date_index_for_testing = []\n",
    "    # function will update exchange_scoring\n",
    "    def update_exchange_scoring(hq_lq_tuple, updated_score):\n",
    "            for hq_exchange in hq_lq_tuple[0]:\n",
    "                hq_exchange_scoring[hq_exchange] += updated_score\n",
    "            for lq_exchange in hq_lq_tuple[1]:\n",
    "                lq_exchange_scoring[lq_exchange] += updated_score\n",
    "\n",
    "    \n",
    "    \n",
    "    # sending api to get date first\n",
    "\n",
    "    # check if not using api will load data from csv\n",
    "    if use_api:\n",
    "        time_list = fetch_date(ticker)\n",
    "    else:    \n",
    "        exchanges_data_df = pd.read_csv(file_path+ticker.replace('/','_')+'.csv',index_col='time')\n",
    "        exchanges_data_dict = exchanges_data_df.to_dict(orient='index')\n",
    "        time_list = exchanges_data_df.index\n",
    "    \n",
    "    def simulate_incomming_exchange_data(curr_date):\n",
    "        # for dataframe testing\n",
    "        exchanges_details_col = ['askpx','bidpx','askqty','bidqty']\n",
    "        exchange_data = {}\n",
    "        for exchange_name in exchanges:\n",
    "            exchange_details = {}\n",
    "            for col in exchanges_details_col:\n",
    "                tmp_exchange_detail = exchanges_data_dict[curr_date][exchange_name + \"_\"+col]\n",
    "                if np.isnan(tmp_exchange_detail):\n",
    "                    continue\n",
    "                exchange_details[col] = tmp_exchange_detail\n",
    "            exchange_data[exchange_name] = exchange_details\n",
    "        return exchange_data\n",
    "\n",
    "    # iterate throught the time_list \n",
    "    for date_indx in tqdm(range(len(time_list))):\n",
    "        curr_date = time_list[date_indx]\n",
    "        if use_api:\n",
    "            # Measure api response time\n",
    "            api_response_time_start = timeit.default_timer()\n",
    "\n",
    "            # get data of each exchanges in dictionary\n",
    "            exchanges_data = fetch_exchanges(exchanges,ticker,curr_date,pre_vals)\n",
    "            api_response_time_end = timeit.default_timer()\n",
    "    \n",
    "            # write response time to the logger\n",
    "            logger.info(f'requested params: date: {curr_date} and pairs: {ticker} : API Response time: {api_response_time_end-api_response_time_start:.4f} seconds')\n",
    "            exchanges_prices = {exchange_name: exchanges_data.get(exchange_name,np.nan).get('askpx',np.nan) for exchange_name in exchanges}\n",
    "            \n",
    "        else:\n",
    "            # reading from CSV here must be aggregrate file with price and vol data for anomailes detection\n",
    "            exchanges_data = simulate_incomming_exchange_data(curr_date)\n",
    "            exchanges_prices = {exchange_name: exchanges_data_dict[curr_date][exchange_name + \"_askpx\"] for exchange_name in exchanges} # <- have to change this any only use the prices that was not have critical anomaly\n",
    "\n",
    "        # variable for anomailes detection\n",
    "        exchange_anomailes_detection = {exchange_name: {'anomailes_lv': AnomalyLv.DEFAULT_LV.value ,'anomailes_occured':list()} for exchange_name in exchanges}\n",
    "\n",
    "        # create anomalies detecation function to check data \n",
    "        def anomalies_detections(exchanges_data):\n",
    "            '''\n",
    "            This function will populate exchange_anomailes_detection dict to return all\n",
    "            the anomailes found in each exchanges including our index prices.\n",
    "            '''\n",
    "\n",
    "            def detect_stale_quote(exchange_name,price_type, price):\n",
    "                '''\n",
    "                Will detect stale qoute of bid or ask prices using type to identify if it bidpx or askpx\n",
    "                '''\n",
    "                if np.isnan(price): return False\n",
    "                if exchange_name not in prev_qoutes:\n",
    "                    # If the exchange is not in the dictionary, add it with the current quote using deque will discard the oldest one\n",
    "                    prev_qoutes[exchange_name] = {}\n",
    "                    prev_qoutes[exchange_name][price_type] = deque([price],maxlen=stale_qoute_window)\n",
    "                else:\n",
    "                    if price_type not in prev_qoutes[exchange_name]: prev_qoutes[exchange_name][price_type] = deque(maxlen=stale_qoute_window)\n",
    "                    prev_qoutes[exchange_name][price_type].append(price)\n",
    "\n",
    "                    # Check if the current quote is the same as the previous N-1 quotes\n",
    "                    if len(prev_qoutes[exchange_name][price_type]) == stale_qoute_window and all(quote == prev_qoutes[exchange_name][price_type][-1] for quote in prev_qoutes[exchange_name][price_type]):\n",
    "                        return True  # Stale quote detected\n",
    "\n",
    "                return False  # Quote is not stale\n",
    "            \n",
    "            def update_anomailes_lv(exchange_name,anomailes_lv):\n",
    "                exchange_anomailes_detection[exchange_name]['anomailes_lv'] = max(exchange_anomailes_detection[exchange_name]['anomailes_lv'],anomailes_lv)\n",
    "\n",
    "\n",
    "            for exchange_name, exchange_details in exchanges_data.items():\n",
    "                # check mising qoute critical\n",
    "                if not exchange_details:\n",
    "                    exchange_anomailes_detection[exchange_name]['anomailes_occured'].append(Anomaly.MISSING_QOUTE.value)\n",
    "                    update_anomailes_lv(exchange_name,AnomalyLv.CRITICAL_LV.value)\n",
    "                    # update anomailes lv\n",
    "                    continue\n",
    "\n",
    "                # check for stale qoute critical\n",
    "                if detect_stale_quote(exchange_name,'askpx', exchange_details['askpx']):\n",
    "                    exchange_anomailes_detection[exchange_name]['anomailes_occured'].append(Anomaly.ASK_STALE_QOUTE.value)\n",
    "                    update_anomailes_lv(exchange_name,AnomalyLv.CRITICAL_LV.value)\n",
    "\n",
    "                if detect_stale_quote(exchange_name,'bidpx', exchange_details['bidpx']):\n",
    "                    exchange_anomailes_detection[exchange_name]['anomailes_occured'].append(Anomaly.BID_STALE_QOUTE.value)\n",
    "                    update_anomailes_lv(exchange_name,AnomalyLv.WARNING_LV.value)\n",
    "\n",
    "                # check negative spread critical\n",
    "                spread = exchange_details['askpx'] - exchange_details['bidpx']\n",
    "                if spread < 0: \n",
    "                    exchange_anomailes_detection[exchange_name]['anomailes_occured'].append(Anomaly.NEGATIVE_SPREAD.value)\n",
    "                    # critical \n",
    "                    update_anomailes_lv(exchange_name,AnomalyLv.CRITICAL_LV.value)\n",
    "\n",
    "                # check if vol < 0 or 0 warning\n",
    "                curr_vol = exchange_details['bidqty']+exchange_details['askqty']\n",
    "                if curr_vol <= 0:\n",
    "                    exchange_anomailes_detection[exchange_name]['anomailes_occured'].append(Anomaly.VOL_ZERO_OR_NEGATIVE.value)\n",
    "                    update_anomailes_lv(exchange_name,AnomalyLv.WARNING_LV.value)\n",
    "\n",
    "        def print_current_anomalies(exchange_anomailes_detection):\n",
    "            print('***************CURRENT ANOMALY START************************')\n",
    "            for exchange_name, details in exchange_anomailes_detection.items():\n",
    "                if details['anomailes_lv'] > 0:\n",
    "                    print(f\"Anomailes detected on exchange: {exchange_name}\")\n",
    "                    print(f'Anomaly details: {details}')\n",
    "            print('***************CURRENT ANOMALY END************************')\n",
    "\n",
    "        anomalies_detections(exchanges_data)\n",
    "        # print_current_anomalies(exchange_anomailes_detection)\n",
    "\n",
    "        pre_vals = exchanges_prices # ** Implement HERE: update on non NaN values in dict\n",
    "            \n",
    "        # get price and associate exchanges name in defferent list\n",
    "        curr_exchange_key = np.array([exchange_name for exchange_name in exchanges if not np.isnan(exchanges_prices[exchange_name])])\n",
    "        curr_prices = np.array([exchanges_prices[exchange_name] for exchange_name in curr_exchange_key]) # This will garantee the order of the prices\n",
    "\n",
    "        # # get only prices that have non-critical anomaily\n",
    "        # curr_exchange_key = []\n",
    "        # curr_prices = []\n",
    "        # for exchange_name in exchanges:\n",
    "        #     if not np.isnan(exchanges_prices[exchange_name]) and exchange_anomailes_detection[exchange_name]['anomailes_lv'] < 2:\n",
    "        #         curr_exchange_key.append(exchange_name)\n",
    "        #         curr_prices.append(exchanges_prices[exchange_name])\n",
    "\n",
    "        # curr_exchange_key = np.array(curr_exchange_key)\n",
    "        # curr_prices = np.array(curr_prices)\n",
    "        # # anomailes filtering end\n",
    "\n",
    "        #check if all nan or not # return some error or warning\n",
    "        if len(curr_prices) == 0: \n",
    "            start_date_index = date_indx\n",
    "            continue\n",
    "\n",
    "        #*** Testing\n",
    "        date_index_for_testing.append(curr_date)\n",
    "\n",
    "\n",
    "        mean_price = np.median(curr_prices)\n",
    "        distances_from_mean = abs(curr_prices - mean_price)\n",
    "                    \n",
    "        # IMPLEMENT VAR CHECK HERE\n",
    "        def var_checking(use_varcheck,curr_prices):\n",
    "            '''\n",
    "            This function will return True when there are high voltility in the market.\n",
    "            it will compare current market data to prevrious std_ma_window of std MA\n",
    "            '''\n",
    "            if not use_varcheck: return True\n",
    "\n",
    "            def update_std_moving_window(curr_std):\n",
    "                # deprecate using deque will auto remove\n",
    "                # while(len(std_ma_window) +1 > var_check_window):\n",
    "                #     std_ma_window.popleft()\n",
    "                std_ma_window_l.append(curr_std)\n",
    "                std_ma_window_s.append(curr_std)\n",
    "\n",
    "            curr_std = np.std(curr_prices)\n",
    "            if curr_std > np.mean(std_ma_window_s) or curr_std >= std_ma_window_l:\n",
    "                update_std_moving_window(curr_std)\n",
    "                return True\n",
    "            return False\n",
    "            \n",
    "\n",
    "        # END \n",
    "\n",
    "        # find exchange name that is not abnormal\n",
    "        curr_normal_exchange_key = np.array([exchange_name for exchange_name in exchanges \n",
    "                            if not np.isnan(exchanges_prices[exchange_name]) \n",
    "                            and exchange_anomailes_detection[exchange_name]['anomailes_lv'] < 2])\n",
    "        # anomailes filtering end\n",
    "        # intialize hq_lq_tuple default value with non abnomailes excahnge prices in case that our model wont get clusterd\n",
    "        hq_lq_tuple = (curr_normal_exchange_key if len(curr_normal_exchange_key)>0 else curr_exchange_key, []) \n",
    "        \n",
    "        #print(\"Is we using cluster: \",len(curr_prices) > 1 and var_checking(use_varcheck,curr_prices,var_check_abs_threshold))\n",
    "\n",
    "\n",
    "        # Check if there are more than 1 exhcanges prices and check variance\n",
    "        if len(curr_prices) > 1 and var_checking(use_varcheck,curr_prices):\n",
    "            clustering_timer_start = timeit.default_timer()\n",
    "\n",
    "            distances_from_mean = distances_from_mean.reshape(-1, 1)        \n",
    "            distance_matrix = euclidean_distances(distances_from_mean, distances_from_mean)\n",
    "\n",
    "            kmeans = KMeans(n_clusters=2)\n",
    "            pipeline = make_pipeline(Normalizer(), kmeans)\n",
    "            pipeline.fit(distance_matrix)\n",
    "            clustering_label = np.array(pipeline.predict(distance_matrix))\n",
    "\n",
    "            clustering_timer_end = timeit.default_timer()\n",
    "            logger.info(f' Clustering time:  {clustering_timer_end - clustering_timer_start:.4f} seconds')\n",
    "\n",
    "           \n",
    "\n",
    "            # check if ther only 1 clustering label so we use all the exchange anyways\n",
    "            #print(\"is there are more than 1 cluster label: \",len(set(clustering_label)) > 1)\n",
    "            if len(set(clustering_label)) > 1:\n",
    "                cluster_means = np.array([np.mean(curr_prices[clustering_label == i]) for i in range(2)])\n",
    "                min_distance_index = np.argmin(np.abs(cluster_means - mean_price))\n",
    "                # if len(curr_exchange_key[clustering_label == min_distance_index]) > 0:\n",
    "                hq_lq_tuple = (curr_exchange_key[clustering_label == min_distance_index],\n",
    "                                curr_exchange_key[clustering_label != min_distance_index])\n",
    "                #print(\"hq_lq_tuple \",hq_lq_tuple)\n",
    "        \n",
    "\n",
    "            logger.info(f' HQ Exchanges :  {hq_lq_tuple[0]} LQ Exchanges : {hq_lq_tuple[1]}')\n",
    "\n",
    "            # check if overflow the scoring windows\n",
    "            while len(scoring_window) + 1 > n_scoring_window:\n",
    "                # pop left scoring window\n",
    "                prev_hq_lq = scoring_window.popleft()\n",
    "                # remove previous scoring\n",
    "                update_exchange_scoring(prev_hq_lq,-1)# O(Nlog(N))\n",
    "\n",
    "            # append scoring window\n",
    "            update_exchange_scoring(hq_lq_tuple,1)\n",
    "            scoring_window.append(hq_lq_tuple)\n",
    "            \n",
    "\n",
    "            # calculate weight for each of curr_exchange\n",
    "            curr_weights =  np.array([hq_exchange_scoring[exchange_name]/(lq_exchange_scoring[exchange_name]+hq_exchange_scoring[exchange_name]) for exchange_name in hq_lq_tuple[0]])       \n",
    "            hq_prices = np.array([exchanges_prices[exchange_name] for exchange_name in hq_lq_tuple[0]])\n",
    "            logger.info(f' Weight(using only HQ Prices):  {curr_weights}')\n",
    "\n",
    "            \n",
    "            # amplified the weight using fourier amplifier\n",
    "            curr_weights = fourier_weight_amplifier(curr_weights)\n",
    "            logger.info(f' Amplified Weight(using only HQ Prices):  {curr_weights}')\n",
    "            curr_index_prices = np.dot(hq_prices, curr_weights) / np.sum(curr_weights)\n",
    "            # calculate index price using amplified weight and hq prices\n",
    "        else:\n",
    "            # check if overflow the scoring windows\n",
    "            while len(scoring_window) + 1 > n_scoring_window:\n",
    "                # pop left scoring window\n",
    "                prev_hq_lq = scoring_window.popleft()\n",
    "                # remove previous scoring\n",
    "                update_exchange_scoring(prev_hq_lq,-1)# O(Nlog(N))\n",
    "\n",
    "            # append scoring window\n",
    "            update_exchange_scoring(hq_lq_tuple,1)\n",
    "            scoring_window.append(hq_lq_tuple)\n",
    "            curr_index_prices = mean_price\n",
    "        \n",
    "        index_prices.append(curr_index_prices)\n",
    "        logger.info(f' Index Prices :  {curr_index_prices}')\n",
    "        logger.info(f' Mean Prices :  {mean_price}')\n",
    "        if np.isnan(curr_index_prices):\n",
    "            print(f\"This index prices {curr_index_prices} is NaN\")\n",
    "            print(\"hq_lq_tuple \",hq_lq_tuple)\n",
    "            print(f'curr_dates: {curr_date} curr prices: {curr_prices}')\n",
    "            print(f'curr_normal_exchange_key : {curr_normal_exchange_key}')\n",
    "            print(f'exchange_anomailes_detection :',exchange_anomailes_detection)\n",
    "     \n",
    "    return index_prices, date_index_for_testing\n",
    "testing_exchanges = ['8', '9', '10', '12', '16', '19', '25', '28', '30']"
   ]
  },
  {
   "attachments": {},
   "cell_type": "markdown",
   "metadata": {},
   "source": [
    "### Result Outputting"
   ]
  },
  {
   "cell_type": "code",
   "execution_count": 10,
   "metadata": {},
   "outputs": [],
   "source": [
    "def Delete_all_PNG(i):\n",
    "    pngfiles = [f for f in os.listdir(i) if f.endswith(\".png\")]\n",
    "    print(\"existing png files: \" + str(pngfiles))\n",
    "    [os.remove(i + f) for f in pngfiles]\n",
    "    print(\"All photo removed.\")\n",
    "    print(\"------------------------------------------------------\")\n",
    "\n",
    "def Delete_all_CSV(i):\n",
    "    pngfiles = [f for f in os.listdir(i) if f.endswith(\".csv\")]\n",
    "    print(\"existing png files: \" + str(pngfiles))\n",
    "    [os.remove(i + f) for f in pngfiles]\n",
    "    print(\"All csv removed.\")\n",
    "    print(\"------------------------------------------------------\")\n",
    "\n",
    "\n",
    "def saver(fname):\n",
    "    plt.savefig(fname + \".png\", bbox_inches=\"tight\")\n",
    "\n",
    "def generate_result(ticker, n_scoring_window, index_price, exchanges_data_df, font_size, start_date, mon):\n",
    "    #Kill Previous Result\n",
    "\n",
    "    median_price_path  = median_path(ticker, exchanges_data_df, start_date)\n",
    "\n",
    "    target = exchanges_data_df['1_askpx']\n",
    "    target = target[start_date]\n",
    "\n",
    "    # First Generate Plot\n",
    "    r2 = R2(index_price,target)\n",
    "    mse = MSE(index_price,target)\n",
    "    mape = MAPE(index_price,target )\n",
    "\n",
    "    # First Generate Plot\n",
    "    med_r2 = R2(median_price_path,target)\n",
    "    med_mse = MSE(median_price_path,target)\n",
    "    med_mape = MAPE(median_price_path,target)\n",
    "\n",
    "    fig, ax = plt.subplots(figsize=(12, 5))\n",
    "    ax.plot(target.index, median_price_path, color='red', label = ticker+\" Median Prices\")\n",
    "    ax.plot(target.index, target, color=\"blue\", label = 'Target Prices')\n",
    "    ax.plot(target.index, index_price, color='orange', label = ticker+\" Index Prices\")\n",
    "\n",
    "\n",
    "\n",
    "    ax.set_title(mon+\"_\" + ticker+\",  Best Scoring Mins: \"+str(n_scoring_window))\n",
    "    ax.set_ylabel(ticker+\" Prices\")\n",
    "    ax.set_xlabel(\"Date\")\n",
    "\n",
    "    table_data = [[\"R square\", r2,  med_r2], [\"MSE\", mse, med_mse], [\"MAPE\", mape, med_mape]]\n",
    "    table = ax.table(cellText=table_data, \n",
    "                    cellLoc = \"center\",\n",
    "                    colWidths=[0.5, 0.75, 0.75], \n",
    "                    colLabels=['Index', 'Result', \"Result of Median\"], \n",
    "                    loc=\"center\", \n",
    "                    bbox=[0, -0.5, 1, 0.3])\n",
    "    table.set_fontsize(font_size)\n",
    "\n",
    "    # Place the legend outside the plot to the right\n",
    "    ax.legend()\n",
    "\n",
    "    saver(path_out3 + ticker.replace(\"/\", \"_\") + \"_S\" +\n",
    "        str(n_scoring_window))\n",
    "\n",
    "    plt.close()\n",
    "\n",
    "    #Second Generate Pathes\n",
    "    export = {\n",
    "        ticker+\", Best Scoring Mins: \"+str(n_scoring_window): index_price,\n",
    "        \"Median Pathes\": median_price_path, \n",
    "        \"1.csv\": target\n",
    "    }\n",
    "    export = pd.DataFrame(export, index=target.index)\n",
    "    export.to_csv(path_out2+mon+\"_\" +ticker.replace(\"/\", \"_\")+\"_HQ_Prices_Pathes.csv\")\n",
    "\n",
    "    #Third Generate Accuracy\n",
    "    export2 = {\n",
    "        ticker+\", Best Scoring Mins: \"+str(n_scoring_window): [r2, mse, mape], \n",
    "        \"Median Pathes\": [med_r2, med_mse, med_mape]\n",
    "    }\n",
    "    export2 = pd.DataFrame(export2, index=[\"R square\", \"MSE\", \"MAPE\"])\n",
    "    export2.to_csv(path_out1+mon+\"_\"  + ticker.replace(\"/\", \"_\")+\"_HQ_Prices_Outcome.csv\")\n",
    "    display(export2.transpose())\n",
    "\n",
    "    return [r2, med_r2], [mse, med_mse], [mape, med_mape]\n",
    "\n",
    "def median_path(ticker, exchanges_data_df, start_date):\n",
    "    l = ['8_askpx', '9_askpx', '10_askpx', '12_askpx', '16_askpx', '19_askpx', '25_askpx', '28_askpx', '30_askpx']\n",
    "    index_price = exchanges_data_df[l].fillna(method='ffill').median(axis = 1)\n",
    "    index_price = index_price[start_date]\n",
    "\n",
    "    return index_price\n"
   ]
  },
  {
   "attachments": {},
   "cell_type": "markdown",
   "metadata": {},
   "source": [
    "## Run\n",
    "\n",
    "### !!!Read Instruction!!! ###\n",
    "Before run this code, modify the path that the \"aggre_csv\" located as \"input_path\", </br>\n",
    "modify the path that the \"Best Parameters.csv\" located as \"best_parameters_path\", </br>\n",
    "also create three folders for output. </br></br>\n",
    "path_out1 will store the accracies (R2, MSE and MAPE). </br>\n",
    "path_out2 will store the pathes. </br>\n",
    "path_out3 will store the plot of our model. </br>\n",
    "and best_parameters_path should store the csv file \"Best Parameters.csv\"</br></br>\n",
    "\n",
    "Make sure that you have store the output you want to other folders since the program will kill all the outputs in each run. "
   ]
  },
  {
   "cell_type": "code",
   "execution_count": 11,
   "metadata": {},
   "outputs": [],
   "source": [
    "best_parameters_path = \"Best Patameters.csv\"\n",
    "best_parameters = pd.read_csv(best_parameters_path)\n",
    "test = sorted(list(set(list(best_parameters['Name'].values))))"
   ]
  },
  {
   "cell_type": "code",
   "execution_count": 12,
   "metadata": {},
   "outputs": [
    {
     "name": "stdout",
     "output_type": "stream",
     "text": [
      "['AAVE_BTC', 'AAVE_ETH', 'ADA_BTC', 'ADA_ETH', 'ALGO_BTC', 'ANT_BTC', 'ATOM_BTC', 'ATOM_ETH', 'AVAX_BTC', 'BAT_BTC', 'BCH_BTC', 'BNT_BTC', 'BTC_EUR', 'COMP_BTC', 'CRV_BTC', 'CRV_ETH', 'DASH_BTC', 'DCR_BTC', 'DOGE_BTC', 'DOT_BTC', 'ENJ_BTC', 'EOS_BTC', 'EOS_ETH', 'ETC_BTC', 'ETC_ETH', 'ETH_BTC', 'FIL_BTC', 'FIL_ETH', 'GRT_BTC', 'ICX_BTC', 'IOST_BTC', 'IOTA_BTC', 'KNC1_BTC', 'LINK_BTC', 'LINK_ETH', 'LRC_BTC', 'LSK_BTC', 'LTC_BTC', 'MANA_BTC', 'MANA_ETH', 'MATIC_BTC', 'MKR_BTC', 'NEO_BTC', 'OMG_BTC', 'QTUM_BTC', 'QTUM_ETH', 'REN_BTC', 'SNT_BTC', 'SOL_BTC', 'SRM_BTC', 'SUSHI_BTC', 'TRX_BTC', 'TRX_ETH', 'UNI_BTC', 'UNI_ETH', 'WAVES_BTC', 'WBTC_BTC', 'XEM_BTC', 'XLM_BTC', 'XLM_ETH', 'XRP_BTC', 'XRP_ETH', 'XTZ_BTC', 'XTZ_ETH', 'YFI_BTC', 'ZEC_BTC', 'ZIL_BTC', 'ZRX_BTC']\n"
     ]
    }
   ],
   "source": [
    "print(test)"
   ]
  },
  {
   "cell_type": "code",
   "execution_count": 14,
   "metadata": {},
   "outputs": [
    {
     "name": "stdout",
     "output_type": "stream",
     "text": [
      "existing png files: ['October_CRV_ETH_HQ_Prices_Outcome.csv', 'October_BTC_EUR_HQ_Prices_Outcome.csv', 'October_AAVE_BTC_HQ_Prices_Outcome.csv', 'October_ANT_BTC_HQ_Prices_Outcome.csv', 'October_ADA_ETH_HQ_Prices_Outcome.csv', 'October_ATOM_BTC_HQ_Prices_Outcome.csv', 'October_COMP_BTC_HQ_Prices_Outcome.csv', 'October_BAT_BTC_HQ_Prices_Outcome.csv', 'October_BCH_BTC_HQ_Prices_Outcome.csv', 'October_ADA_BTC_HQ_Prices_Outcome.csv', 'October_ATOM_ETH_HQ_Prices_Outcome.csv', 'October_ALGO_BTC_HQ_Prices_Outcome.csv', 'October_BNT_BTC_HQ_Prices_Outcome.csv', 'October_AAVE_ETH_HQ_Prices_Outcome.csv', 'October_CRV_BTC_HQ_Prices_Outcome.csv', 'October_DASH_BTC_HQ_Prices_Outcome.csv', 'October_AVAX_BTC_HQ_Prices_Outcome.csv']\n",
      "All csv removed.\n",
      "------------------------------------------------------\n",
      "existing png files: ['October_COMP_BTC_HQ_Prices_Pathes.csv', 'October_CRV_BTC_HQ_Prices_Pathes.csv', 'October_ANT_BTC_HQ_Prices_Pathes.csv', 'October_AAVE_BTC_HQ_Prices_Pathes.csv', 'October_ADA_BTC_HQ_Prices_Pathes.csv', 'October_DASH_BTC_HQ_Prices_Pathes.csv', 'October_CRV_ETH_HQ_Prices_Pathes.csv', 'October_BTC_EUR_HQ_Prices_Pathes.csv', 'October_AAVE_ETH_HQ_Prices_Pathes.csv', 'October_ADA_ETH_HQ_Prices_Pathes.csv', 'October_BNT_BTC_HQ_Prices_Pathes.csv', 'October_BAT_BTC_HQ_Prices_Pathes.csv', 'October_ATOM_BTC_HQ_Prices_Pathes.csv', 'October_BCH_BTC_HQ_Prices_Pathes.csv', 'October_ALGO_BTC_HQ_Prices_Pathes.csv', 'October_ATOM_ETH_HQ_Prices_Pathes.csv', 'October_AVAX_BTC_HQ_Prices_Pathes.csv']\n",
      "All csv removed.\n",
      "------------------------------------------------------\n",
      "existing png files: ['AAVE_BTC_S8000.png', 'ATOM_BTC_S8000.png', 'AVAX_BTC_S1000.png', 'DASH_BTC_S8000.png', 'BTC_EUR_S8000.png', 'BNT_BTC_S1000.png', 'ADA_ETH_S1000.png', 'BCH_BTC_S1000.png', 'ADA_BTC_S8000.png', 'ANT_BTC_S500.png', 'CRV_ETH_S5000.png', 'BAT_BTC_S8000.png', 'AAVE_ETH_S8000.png', 'ALGO_BTC_S1000.png', 'ATOM_ETH_S8000.png', 'CRV_BTC_S8000.png', 'COMP_BTC_S1000.png']\n",
      "All photo removed.\n",
      "------------------------------------------------------\n",
      "Now Testing: AAVE_BTC\n"
     ]
    },
    {
     "name": "stderr",
     "output_type": "stream",
     "text": [
      "100%|██████████| 11508/11508 [00:00<00:00, 12899.16it/s]\n"
     ]
    },
    {
     "data": {
      "text/html": [
       "<div>\n",
       "<style scoped>\n",
       "    .dataframe tbody tr th:only-of-type {\n",
       "        vertical-align: middle;\n",
       "    }\n",
       "\n",
       "    .dataframe tbody tr th {\n",
       "        vertical-align: top;\n",
       "    }\n",
       "\n",
       "    .dataframe thead th {\n",
       "        text-align: right;\n",
       "    }\n",
       "</style>\n",
       "<table border=\"1\" class=\"dataframe\">\n",
       "  <thead>\n",
       "    <tr style=\"text-align: right;\">\n",
       "      <th></th>\n",
       "      <th>R square</th>\n",
       "      <th>MSE</th>\n",
       "      <th>MAPE</th>\n",
       "    </tr>\n",
       "  </thead>\n",
       "  <tbody>\n",
       "    <tr>\n",
       "      <th>AAVE_BTC, Best Scoring Mins: 8000</th>\n",
       "      <td>0.998503</td>\n",
       "      <td>1.082149e-11</td>\n",
       "      <td>0.000768</td>\n",
       "    </tr>\n",
       "    <tr>\n",
       "      <th>Median Pathes</th>\n",
       "      <td>0.998351</td>\n",
       "      <td>1.191735e-11</td>\n",
       "      <td>0.000818</td>\n",
       "    </tr>\n",
       "  </tbody>\n",
       "</table>\n",
       "</div>"
      ],
      "text/plain": [
       "                                   R square           MSE      MAPE\n",
       "AAVE_BTC, Best Scoring Mins: 8000  0.998503  1.082149e-11  0.000768\n",
       "Median Pathes                      0.998351  1.191735e-11  0.000818"
      ]
     },
     "metadata": {},
     "output_type": "display_data"
    },
    {
     "name": "stdout",
     "output_type": "stream",
     "text": [
      "0.014705882352941176\n",
      "Now Testing: AAVE_ETH\n"
     ]
    },
    {
     "name": "stderr",
     "output_type": "stream",
     "text": [
      "100%|██████████| 11335/11335 [00:00<00:00, 11646.90it/s]\n"
     ]
    },
    {
     "data": {
      "text/html": [
       "<div>\n",
       "<style scoped>\n",
       "    .dataframe tbody tr th:only-of-type {\n",
       "        vertical-align: middle;\n",
       "    }\n",
       "\n",
       "    .dataframe tbody tr th {\n",
       "        vertical-align: top;\n",
       "    }\n",
       "\n",
       "    .dataframe thead th {\n",
       "        text-align: right;\n",
       "    }\n",
       "</style>\n",
       "<table border=\"1\" class=\"dataframe\">\n",
       "  <thead>\n",
       "    <tr style=\"text-align: right;\">\n",
       "      <th></th>\n",
       "      <th>R square</th>\n",
       "      <th>MSE</th>\n",
       "      <th>MAPE</th>\n",
       "    </tr>\n",
       "  </thead>\n",
       "  <tbody>\n",
       "    <tr>\n",
       "      <th>AAVE_ETH, Best Scoring Mins: 8000</th>\n",
       "      <td>0.952593</td>\n",
       "      <td>4.805119e-08</td>\n",
       "      <td>0.000714</td>\n",
       "    </tr>\n",
       "    <tr>\n",
       "      <th>Median Pathes</th>\n",
       "      <td>0.952684</td>\n",
       "      <td>4.798725e-08</td>\n",
       "      <td>0.000723</td>\n",
       "    </tr>\n",
       "  </tbody>\n",
       "</table>\n",
       "</div>"
      ],
      "text/plain": [
       "                                   R square           MSE      MAPE\n",
       "AAVE_ETH, Best Scoring Mins: 8000  0.952593  4.805119e-08  0.000714\n",
       "Median Pathes                      0.952684  4.798725e-08  0.000723"
      ]
     },
     "metadata": {},
     "output_type": "display_data"
    },
    {
     "name": "stdout",
     "output_type": "stream",
     "text": [
      "0.014705882352941176\n",
      "Now Testing: ADA_BTC\n"
     ]
    },
    {
     "name": "stderr",
     "output_type": "stream",
     "text": [
      "100%|██████████| 11512/11512 [00:00<00:00, 12055.75it/s]\n"
     ]
    },
    {
     "data": {
      "text/html": [
       "<div>\n",
       "<style scoped>\n",
       "    .dataframe tbody tr th:only-of-type {\n",
       "        vertical-align: middle;\n",
       "    }\n",
       "\n",
       "    .dataframe tbody tr th {\n",
       "        vertical-align: top;\n",
       "    }\n",
       "\n",
       "    .dataframe thead th {\n",
       "        text-align: right;\n",
       "    }\n",
       "</style>\n",
       "<table border=\"1\" class=\"dataframe\">\n",
       "  <thead>\n",
       "    <tr style=\"text-align: right;\">\n",
       "      <th></th>\n",
       "      <th>R square</th>\n",
       "      <th>MSE</th>\n",
       "      <th>MAPE</th>\n",
       "    </tr>\n",
       "  </thead>\n",
       "  <tbody>\n",
       "    <tr>\n",
       "      <th>ADA_BTC, Best Scoring Mins: 8000</th>\n",
       "      <td>0.999897</td>\n",
       "      <td>8.881999e-17</td>\n",
       "      <td>0.000370</td>\n",
       "    </tr>\n",
       "    <tr>\n",
       "      <th>Median Pathes</th>\n",
       "      <td>0.999883</td>\n",
       "      <td>1.001013e-16</td>\n",
       "      <td>0.000401</td>\n",
       "    </tr>\n",
       "  </tbody>\n",
       "</table>\n",
       "</div>"
      ],
      "text/plain": [
       "                                  R square           MSE      MAPE\n",
       "ADA_BTC, Best Scoring Mins: 8000  0.999897  8.881999e-17  0.000370\n",
       "Median Pathes                     0.999883  1.001013e-16  0.000401"
      ]
     },
     "metadata": {},
     "output_type": "display_data"
    },
    {
     "name": "stdout",
     "output_type": "stream",
     "text": [
      "0.029411764705882353\n",
      "Now Testing: ADA_ETH\n"
     ]
    },
    {
     "name": "stderr",
     "output_type": "stream",
     "text": [
      "100%|██████████| 11508/11508 [00:00<00:00, 12095.51it/s]\n"
     ]
    },
    {
     "data": {
      "text/html": [
       "<div>\n",
       "<style scoped>\n",
       "    .dataframe tbody tr th:only-of-type {\n",
       "        vertical-align: middle;\n",
       "    }\n",
       "\n",
       "    .dataframe tbody tr th {\n",
       "        vertical-align: top;\n",
       "    }\n",
       "\n",
       "    .dataframe thead th {\n",
       "        text-align: right;\n",
       "    }\n",
       "</style>\n",
       "<table border=\"1\" class=\"dataframe\">\n",
       "  <thead>\n",
       "    <tr style=\"text-align: right;\">\n",
       "      <th></th>\n",
       "      <th>R square</th>\n",
       "      <th>MSE</th>\n",
       "      <th>MAPE</th>\n",
       "    </tr>\n",
       "  </thead>\n",
       "  <tbody>\n",
       "    <tr>\n",
       "      <th>ADA_ETH, Best Scoring Mins: 1000</th>\n",
       "      <td>0.997951</td>\n",
       "      <td>3.098676e-13</td>\n",
       "      <td>0.001583</td>\n",
       "    </tr>\n",
       "    <tr>\n",
       "      <th>Median Pathes</th>\n",
       "      <td>0.997944</td>\n",
       "      <td>3.107281e-13</td>\n",
       "      <td>0.001581</td>\n",
       "    </tr>\n",
       "  </tbody>\n",
       "</table>\n",
       "</div>"
      ],
      "text/plain": [
       "                                  R square           MSE      MAPE\n",
       "ADA_ETH, Best Scoring Mins: 1000  0.997951  3.098676e-13  0.001583\n",
       "Median Pathes                     0.997944  3.107281e-13  0.001581"
      ]
     },
     "metadata": {},
     "output_type": "display_data"
    },
    {
     "name": "stdout",
     "output_type": "stream",
     "text": [
      "0.04411764705882353\n",
      "Now Testing: ALGO_BTC\n"
     ]
    },
    {
     "name": "stderr",
     "output_type": "stream",
     "text": [
      "100%|██████████| 11508/11508 [00:00<00:00, 11857.76it/s]\n"
     ]
    },
    {
     "data": {
      "text/html": [
       "<div>\n",
       "<style scoped>\n",
       "    .dataframe tbody tr th:only-of-type {\n",
       "        vertical-align: middle;\n",
       "    }\n",
       "\n",
       "    .dataframe tbody tr th {\n",
       "        vertical-align: top;\n",
       "    }\n",
       "\n",
       "    .dataframe thead th {\n",
       "        text-align: right;\n",
       "    }\n",
       "</style>\n",
       "<table border=\"1\" class=\"dataframe\">\n",
       "  <thead>\n",
       "    <tr style=\"text-align: right;\">\n",
       "      <th></th>\n",
       "      <th>R square</th>\n",
       "      <th>MSE</th>\n",
       "      <th>MAPE</th>\n",
       "    </tr>\n",
       "  </thead>\n",
       "  <tbody>\n",
       "    <tr>\n",
       "      <th>ALGO_BTC, Best Scoring Mins: 1000</th>\n",
       "      <td>0.994622</td>\n",
       "      <td>1.112315e-15</td>\n",
       "      <td>0.001659</td>\n",
       "    </tr>\n",
       "    <tr>\n",
       "      <th>Median Pathes</th>\n",
       "      <td>0.994709</td>\n",
       "      <td>1.095249e-15</td>\n",
       "      <td>0.001686</td>\n",
       "    </tr>\n",
       "  </tbody>\n",
       "</table>\n",
       "</div>"
      ],
      "text/plain": [
       "                                   R square           MSE      MAPE\n",
       "ALGO_BTC, Best Scoring Mins: 1000  0.994622  1.112315e-15  0.001659\n",
       "Median Pathes                      0.994709  1.095249e-15  0.001686"
      ]
     },
     "metadata": {},
     "output_type": "display_data"
    },
    {
     "name": "stdout",
     "output_type": "stream",
     "text": [
      "0.04411764705882353\n",
      "Now Testing: ANT_BTC\n"
     ]
    },
    {
     "name": "stderr",
     "output_type": "stream",
     "text": [
      "100%|██████████| 11505/11505 [00:00<00:00, 11984.37it/s]\n"
     ]
    },
    {
     "data": {
      "text/html": [
       "<div>\n",
       "<style scoped>\n",
       "    .dataframe tbody tr th:only-of-type {\n",
       "        vertical-align: middle;\n",
       "    }\n",
       "\n",
       "    .dataframe tbody tr th {\n",
       "        vertical-align: top;\n",
       "    }\n",
       "\n",
       "    .dataframe thead th {\n",
       "        text-align: right;\n",
       "    }\n",
       "</style>\n",
       "<table border=\"1\" class=\"dataframe\">\n",
       "  <thead>\n",
       "    <tr style=\"text-align: right;\">\n",
       "      <th></th>\n",
       "      <th>R square</th>\n",
       "      <th>MSE</th>\n",
       "      <th>MAPE</th>\n",
       "    </tr>\n",
       "  </thead>\n",
       "  <tbody>\n",
       "    <tr>\n",
       "      <th>ANT_BTC, Best Scoring Mins: 500</th>\n",
       "      <td>0.998886</td>\n",
       "      <td>5.184744e-15</td>\n",
       "      <td>0.000687</td>\n",
       "    </tr>\n",
       "    <tr>\n",
       "      <th>Median Pathes</th>\n",
       "      <td>0.998879</td>\n",
       "      <td>5.216019e-15</td>\n",
       "      <td>0.000691</td>\n",
       "    </tr>\n",
       "  </tbody>\n",
       "</table>\n",
       "</div>"
      ],
      "text/plain": [
       "                                 R square           MSE      MAPE\n",
       "ANT_BTC, Best Scoring Mins: 500  0.998886  5.184744e-15  0.000687\n",
       "Median Pathes                    0.998879  5.216019e-15  0.000691"
      ]
     },
     "metadata": {},
     "output_type": "display_data"
    },
    {
     "name": "stdout",
     "output_type": "stream",
     "text": [
      "0.058823529411764705\n",
      "Now Testing: ATOM_BTC\n"
     ]
    },
    {
     "name": "stderr",
     "output_type": "stream",
     "text": [
      "100%|██████████| 11507/11507 [00:00<00:00, 12217.36it/s]\n"
     ]
    },
    {
     "data": {
      "text/html": [
       "<div>\n",
       "<style scoped>\n",
       "    .dataframe tbody tr th:only-of-type {\n",
       "        vertical-align: middle;\n",
       "    }\n",
       "\n",
       "    .dataframe tbody tr th {\n",
       "        vertical-align: top;\n",
       "    }\n",
       "\n",
       "    .dataframe thead th {\n",
       "        text-align: right;\n",
       "    }\n",
       "</style>\n",
       "<table border=\"1\" class=\"dataframe\">\n",
       "  <thead>\n",
       "    <tr style=\"text-align: right;\">\n",
       "      <th></th>\n",
       "      <th>R square</th>\n",
       "      <th>MSE</th>\n",
       "      <th>MAPE</th>\n",
       "    </tr>\n",
       "  </thead>\n",
       "  <tbody>\n",
       "    <tr>\n",
       "      <th>ATOM_BTC, Best Scoring Mins: 8000</th>\n",
       "      <td>0.999929</td>\n",
       "      <td>5.987915e-14</td>\n",
       "      <td>0.000324</td>\n",
       "    </tr>\n",
       "    <tr>\n",
       "      <th>Median Pathes</th>\n",
       "      <td>0.999926</td>\n",
       "      <td>6.244758e-14</td>\n",
       "      <td>0.000335</td>\n",
       "    </tr>\n",
       "  </tbody>\n",
       "</table>\n",
       "</div>"
      ],
      "text/plain": [
       "                                   R square           MSE      MAPE\n",
       "ATOM_BTC, Best Scoring Mins: 8000  0.999929  5.987915e-14  0.000324\n",
       "Median Pathes                      0.999926  6.244758e-14  0.000335"
      ]
     },
     "metadata": {},
     "output_type": "display_data"
    },
    {
     "name": "stdout",
     "output_type": "stream",
     "text": [
      "0.07352941176470588\n",
      "Now Testing: ATOM_ETH\n"
     ]
    },
    {
     "name": "stderr",
     "output_type": "stream",
     "text": [
      "100%|██████████| 11512/11512 [00:00<00:00, 13408.60it/s]\n"
     ]
    },
    {
     "data": {
      "text/html": [
       "<div>\n",
       "<style scoped>\n",
       "    .dataframe tbody tr th:only-of-type {\n",
       "        vertical-align: middle;\n",
       "    }\n",
       "\n",
       "    .dataframe tbody tr th {\n",
       "        vertical-align: top;\n",
       "    }\n",
       "\n",
       "    .dataframe thead th {\n",
       "        text-align: right;\n",
       "    }\n",
       "</style>\n",
       "<table border=\"1\" class=\"dataframe\">\n",
       "  <thead>\n",
       "    <tr style=\"text-align: right;\">\n",
       "      <th></th>\n",
       "      <th>R square</th>\n",
       "      <th>MSE</th>\n",
       "      <th>MAPE</th>\n",
       "    </tr>\n",
       "  </thead>\n",
       "  <tbody>\n",
       "    <tr>\n",
       "      <th>ATOM_ETH, Best Scoring Mins: 8000</th>\n",
       "      <td>0.999846</td>\n",
       "      <td>2.281594e-11</td>\n",
       "      <td>0.000315</td>\n",
       "    </tr>\n",
       "    <tr>\n",
       "      <th>Median Pathes</th>\n",
       "      <td>0.999847</td>\n",
       "      <td>2.258881e-11</td>\n",
       "      <td>0.000312</td>\n",
       "    </tr>\n",
       "  </tbody>\n",
       "</table>\n",
       "</div>"
      ],
      "text/plain": [
       "                                   R square           MSE      MAPE\n",
       "ATOM_ETH, Best Scoring Mins: 8000  0.999846  2.281594e-11  0.000315\n",
       "Median Pathes                      0.999847  2.258881e-11  0.000312"
      ]
     },
     "metadata": {},
     "output_type": "display_data"
    },
    {
     "name": "stdout",
     "output_type": "stream",
     "text": [
      "0.08823529411764706\n",
      "Now Testing: AVAX_BTC\n"
     ]
    },
    {
     "name": "stderr",
     "output_type": "stream",
     "text": [
      "100%|██████████| 11511/11511 [00:00<00:00, 12705.59it/s]\n"
     ]
    },
    {
     "data": {
      "text/html": [
       "<div>\n",
       "<style scoped>\n",
       "    .dataframe tbody tr th:only-of-type {\n",
       "        vertical-align: middle;\n",
       "    }\n",
       "\n",
       "    .dataframe tbody tr th {\n",
       "        vertical-align: top;\n",
       "    }\n",
       "\n",
       "    .dataframe thead th {\n",
       "        text-align: right;\n",
       "    }\n",
       "</style>\n",
       "<table border=\"1\" class=\"dataframe\">\n",
       "  <thead>\n",
       "    <tr style=\"text-align: right;\">\n",
       "      <th></th>\n",
       "      <th>R square</th>\n",
       "      <th>MSE</th>\n",
       "      <th>MAPE</th>\n",
       "    </tr>\n",
       "  </thead>\n",
       "  <tbody>\n",
       "    <tr>\n",
       "      <th>AVAX_BTC, Best Scoring Mins: 1000</th>\n",
       "      <td>0.999130</td>\n",
       "      <td>3.960056e-13</td>\n",
       "      <td>0.000682</td>\n",
       "    </tr>\n",
       "    <tr>\n",
       "      <th>Median Pathes</th>\n",
       "      <td>0.999113</td>\n",
       "      <td>4.034165e-13</td>\n",
       "      <td>0.000687</td>\n",
       "    </tr>\n",
       "  </tbody>\n",
       "</table>\n",
       "</div>"
      ],
      "text/plain": [
       "                                   R square           MSE      MAPE\n",
       "AVAX_BTC, Best Scoring Mins: 1000  0.999130  3.960056e-13  0.000682\n",
       "Median Pathes                      0.999113  4.034165e-13  0.000687"
      ]
     },
     "metadata": {},
     "output_type": "display_data"
    },
    {
     "name": "stdout",
     "output_type": "stream",
     "text": [
      "0.10294117647058823\n",
      "Now Testing: BAT_BTC\n"
     ]
    },
    {
     "name": "stderr",
     "output_type": "stream",
     "text": [
      "100%|██████████| 11512/11512 [00:00<00:00, 11958.38it/s]\n"
     ]
    },
    {
     "data": {
      "text/html": [
       "<div>\n",
       "<style scoped>\n",
       "    .dataframe tbody tr th:only-of-type {\n",
       "        vertical-align: middle;\n",
       "    }\n",
       "\n",
       "    .dataframe tbody tr th {\n",
       "        vertical-align: top;\n",
       "    }\n",
       "\n",
       "    .dataframe thead th {\n",
       "        text-align: right;\n",
       "    }\n",
       "</style>\n",
       "<table border=\"1\" class=\"dataframe\">\n",
       "  <thead>\n",
       "    <tr style=\"text-align: right;\">\n",
       "      <th></th>\n",
       "      <th>R square</th>\n",
       "      <th>MSE</th>\n",
       "      <th>MAPE</th>\n",
       "    </tr>\n",
       "  </thead>\n",
       "  <tbody>\n",
       "    <tr>\n",
       "      <th>BAT_BTC, Best Scoring Mins: 8000</th>\n",
       "      <td>0.996745</td>\n",
       "      <td>2.680638e-16</td>\n",
       "      <td>0.000931</td>\n",
       "    </tr>\n",
       "    <tr>\n",
       "      <th>Median Pathes</th>\n",
       "      <td>0.996892</td>\n",
       "      <td>2.558960e-16</td>\n",
       "      <td>0.000910</td>\n",
       "    </tr>\n",
       "  </tbody>\n",
       "</table>\n",
       "</div>"
      ],
      "text/plain": [
       "                                  R square           MSE      MAPE\n",
       "BAT_BTC, Best Scoring Mins: 8000  0.996745  2.680638e-16  0.000931\n",
       "Median Pathes                     0.996892  2.558960e-16  0.000910"
      ]
     },
     "metadata": {},
     "output_type": "display_data"
    },
    {
     "name": "stdout",
     "output_type": "stream",
     "text": [
      "0.10294117647058823\n",
      "Now Testing: BCH_BTC\n"
     ]
    },
    {
     "name": "stderr",
     "output_type": "stream",
     "text": [
      "100%|██████████| 11509/11509 [00:01<00:00, 11142.98it/s]\n"
     ]
    },
    {
     "data": {
      "text/html": [
       "<div>\n",
       "<style scoped>\n",
       "    .dataframe tbody tr th:only-of-type {\n",
       "        vertical-align: middle;\n",
       "    }\n",
       "\n",
       "    .dataframe tbody tr th {\n",
       "        vertical-align: top;\n",
       "    }\n",
       "\n",
       "    .dataframe thead th {\n",
       "        text-align: right;\n",
       "    }\n",
       "</style>\n",
       "<table border=\"1\" class=\"dataframe\">\n",
       "  <thead>\n",
       "    <tr style=\"text-align: right;\">\n",
       "      <th></th>\n",
       "      <th>R square</th>\n",
       "      <th>MSE</th>\n",
       "      <th>MAPE</th>\n",
       "    </tr>\n",
       "  </thead>\n",
       "  <tbody>\n",
       "    <tr>\n",
       "      <th>BCH_BTC, Best Scoring Mins: 1000</th>\n",
       "      <td>0.999437</td>\n",
       "      <td>1.277819e-11</td>\n",
       "      <td>0.000322</td>\n",
       "    </tr>\n",
       "    <tr>\n",
       "      <th>Median Pathes</th>\n",
       "      <td>0.999437</td>\n",
       "      <td>1.277423e-11</td>\n",
       "      <td>0.000326</td>\n",
       "    </tr>\n",
       "  </tbody>\n",
       "</table>\n",
       "</div>"
      ],
      "text/plain": [
       "                                  R square           MSE      MAPE\n",
       "BCH_BTC, Best Scoring Mins: 1000  0.999437  1.277819e-11  0.000322\n",
       "Median Pathes                     0.999437  1.277423e-11  0.000326"
      ]
     },
     "metadata": {},
     "output_type": "display_data"
    },
    {
     "name": "stdout",
     "output_type": "stream",
     "text": [
      "0.11764705882352941\n",
      "Now Testing: BNT_BTC\n"
     ]
    },
    {
     "name": "stderr",
     "output_type": "stream",
     "text": [
      "100%|██████████| 11511/11511 [00:00<00:00, 12477.14it/s]\n"
     ]
    },
    {
     "data": {
      "text/html": [
       "<div>\n",
       "<style scoped>\n",
       "    .dataframe tbody tr th:only-of-type {\n",
       "        vertical-align: middle;\n",
       "    }\n",
       "\n",
       "    .dataframe tbody tr th {\n",
       "        vertical-align: top;\n",
       "    }\n",
       "\n",
       "    .dataframe thead th {\n",
       "        text-align: right;\n",
       "    }\n",
       "</style>\n",
       "<table border=\"1\" class=\"dataframe\">\n",
       "  <thead>\n",
       "    <tr style=\"text-align: right;\">\n",
       "      <th></th>\n",
       "      <th>R square</th>\n",
       "      <th>MSE</th>\n",
       "      <th>MAPE</th>\n",
       "    </tr>\n",
       "  </thead>\n",
       "  <tbody>\n",
       "    <tr>\n",
       "      <th>BNT_BTC, Best Scoring Mins: 1000</th>\n",
       "      <td>0.839970</td>\n",
       "      <td>2.650544e-14</td>\n",
       "      <td>0.005568</td>\n",
       "    </tr>\n",
       "    <tr>\n",
       "      <th>Median Pathes</th>\n",
       "      <td>0.801892</td>\n",
       "      <td>3.418989e-14</td>\n",
       "      <td>0.006762</td>\n",
       "    </tr>\n",
       "  </tbody>\n",
       "</table>\n",
       "</div>"
      ],
      "text/plain": [
       "                                  R square           MSE      MAPE\n",
       "BNT_BTC, Best Scoring Mins: 1000  0.839970  2.650544e-14  0.005568\n",
       "Median Pathes                     0.801892  3.418989e-14  0.006762"
      ]
     },
     "metadata": {},
     "output_type": "display_data"
    },
    {
     "name": "stdout",
     "output_type": "stream",
     "text": [
      "0.1323529411764706\n",
      "Now Testing: BTC_EUR\n"
     ]
    },
    {
     "name": "stderr",
     "output_type": "stream",
     "text": [
      "100%|██████████| 11512/11512 [00:00<00:00, 13059.50it/s]\n"
     ]
    },
    {
     "data": {
      "text/html": [
       "<div>\n",
       "<style scoped>\n",
       "    .dataframe tbody tr th:only-of-type {\n",
       "        vertical-align: middle;\n",
       "    }\n",
       "\n",
       "    .dataframe tbody tr th {\n",
       "        vertical-align: top;\n",
       "    }\n",
       "\n",
       "    .dataframe thead th {\n",
       "        text-align: right;\n",
       "    }\n",
       "</style>\n",
       "<table border=\"1\" class=\"dataframe\">\n",
       "  <thead>\n",
       "    <tr style=\"text-align: right;\">\n",
       "      <th></th>\n",
       "      <th>R square</th>\n",
       "      <th>MSE</th>\n",
       "      <th>MAPE</th>\n",
       "    </tr>\n",
       "  </thead>\n",
       "  <tbody>\n",
       "    <tr>\n",
       "      <th>BTC_EUR, Best Scoring Mins: 8000</th>\n",
       "      <td>0.994829</td>\n",
       "      <td>342.093783</td>\n",
       "      <td>0.000624</td>\n",
       "    </tr>\n",
       "    <tr>\n",
       "      <th>Median Pathes</th>\n",
       "      <td>0.996047</td>\n",
       "      <td>261.188463</td>\n",
       "      <td>0.000642</td>\n",
       "    </tr>\n",
       "  </tbody>\n",
       "</table>\n",
       "</div>"
      ],
      "text/plain": [
       "                                  R square         MSE      MAPE\n",
       "BTC_EUR, Best Scoring Mins: 8000  0.994829  342.093783  0.000624\n",
       "Median Pathes                     0.996047  261.188463  0.000642"
      ]
     },
     "metadata": {},
     "output_type": "display_data"
    },
    {
     "name": "stdout",
     "output_type": "stream",
     "text": [
      "0.1323529411764706\n",
      "Now Testing: COMP_BTC\n"
     ]
    },
    {
     "name": "stderr",
     "output_type": "stream",
     "text": [
      "100%|██████████| 11507/11507 [00:00<00:00, 12627.92it/s]\n"
     ]
    },
    {
     "data": {
      "text/html": [
       "<div>\n",
       "<style scoped>\n",
       "    .dataframe tbody tr th:only-of-type {\n",
       "        vertical-align: middle;\n",
       "    }\n",
       "\n",
       "    .dataframe tbody tr th {\n",
       "        vertical-align: top;\n",
       "    }\n",
       "\n",
       "    .dataframe thead th {\n",
       "        text-align: right;\n",
       "    }\n",
       "</style>\n",
       "<table border=\"1\" class=\"dataframe\">\n",
       "  <thead>\n",
       "    <tr style=\"text-align: right;\">\n",
       "      <th></th>\n",
       "      <th>R square</th>\n",
       "      <th>MSE</th>\n",
       "      <th>MAPE</th>\n",
       "    </tr>\n",
       "  </thead>\n",
       "  <tbody>\n",
       "    <tr>\n",
       "      <th>COMP_BTC, Best Scoring Mins: 1000</th>\n",
       "      <td>0.999287</td>\n",
       "      <td>4.406959e-12</td>\n",
       "      <td>0.000559</td>\n",
       "    </tr>\n",
       "    <tr>\n",
       "      <th>Median Pathes</th>\n",
       "      <td>0.999263</td>\n",
       "      <td>4.555817e-12</td>\n",
       "      <td>0.000568</td>\n",
       "    </tr>\n",
       "  </tbody>\n",
       "</table>\n",
       "</div>"
      ],
      "text/plain": [
       "                                   R square           MSE      MAPE\n",
       "COMP_BTC, Best Scoring Mins: 1000  0.999287  4.406959e-12  0.000559\n",
       "Median Pathes                      0.999263  4.555817e-12  0.000568"
      ]
     },
     "metadata": {},
     "output_type": "display_data"
    },
    {
     "name": "stdout",
     "output_type": "stream",
     "text": [
      "0.14705882352941177\n",
      "Now Testing: CRV_BTC\n"
     ]
    },
    {
     "name": "stderr",
     "output_type": "stream",
     "text": [
      "100%|██████████| 11507/11507 [00:01<00:00, 10650.14it/s]\n"
     ]
    },
    {
     "data": {
      "text/html": [
       "<div>\n",
       "<style scoped>\n",
       "    .dataframe tbody tr th:only-of-type {\n",
       "        vertical-align: middle;\n",
       "    }\n",
       "\n",
       "    .dataframe tbody tr th {\n",
       "        vertical-align: top;\n",
       "    }\n",
       "\n",
       "    .dataframe thead th {\n",
       "        text-align: right;\n",
       "    }\n",
       "</style>\n",
       "<table border=\"1\" class=\"dataframe\">\n",
       "  <thead>\n",
       "    <tr style=\"text-align: right;\">\n",
       "      <th></th>\n",
       "      <th>R square</th>\n",
       "      <th>MSE</th>\n",
       "      <th>MAPE</th>\n",
       "    </tr>\n",
       "  </thead>\n",
       "  <tbody>\n",
       "    <tr>\n",
       "      <th>CRV_BTC, Best Scoring Mins: 8000</th>\n",
       "      <td>0.996965</td>\n",
       "      <td>8.345038e-15</td>\n",
       "      <td>0.001943</td>\n",
       "    </tr>\n",
       "    <tr>\n",
       "      <th>Median Pathes</th>\n",
       "      <td>0.996851</td>\n",
       "      <td>8.655442e-15</td>\n",
       "      <td>0.001978</td>\n",
       "    </tr>\n",
       "  </tbody>\n",
       "</table>\n",
       "</div>"
      ],
      "text/plain": [
       "                                  R square           MSE      MAPE\n",
       "CRV_BTC, Best Scoring Mins: 8000  0.996965  8.345038e-15  0.001943\n",
       "Median Pathes                     0.996851  8.655442e-15  0.001978"
      ]
     },
     "metadata": {},
     "output_type": "display_data"
    },
    {
     "name": "stdout",
     "output_type": "stream",
     "text": [
      "0.16176470588235295\n",
      "Now Testing: CRV_ETH\n"
     ]
    },
    {
     "name": "stderr",
     "output_type": "stream",
     "text": [
      "100%|██████████| 10885/10885 [00:00<00:00, 12173.13it/s]\n"
     ]
    },
    {
     "data": {
      "text/html": [
       "<div>\n",
       "<style scoped>\n",
       "    .dataframe tbody tr th:only-of-type {\n",
       "        vertical-align: middle;\n",
       "    }\n",
       "\n",
       "    .dataframe tbody tr th {\n",
       "        vertical-align: top;\n",
       "    }\n",
       "\n",
       "    .dataframe thead th {\n",
       "        text-align: right;\n",
       "    }\n",
       "</style>\n",
       "<table border=\"1\" class=\"dataframe\">\n",
       "  <thead>\n",
       "    <tr style=\"text-align: right;\">\n",
       "      <th></th>\n",
       "      <th>R square</th>\n",
       "      <th>MSE</th>\n",
       "      <th>MAPE</th>\n",
       "    </tr>\n",
       "  </thead>\n",
       "  <tbody>\n",
       "    <tr>\n",
       "      <th>CRV_ETH, Best Scoring Mins: 5000</th>\n",
       "      <td>0.998247</td>\n",
       "      <td>7.972092e-13</td>\n",
       "      <td>0.001051</td>\n",
       "    </tr>\n",
       "    <tr>\n",
       "      <th>Median Pathes</th>\n",
       "      <td>0.998267</td>\n",
       "      <td>7.874112e-13</td>\n",
       "      <td>0.001060</td>\n",
       "    </tr>\n",
       "  </tbody>\n",
       "</table>\n",
       "</div>"
      ],
      "text/plain": [
       "                                  R square           MSE      MAPE\n",
       "CRV_ETH, Best Scoring Mins: 5000  0.998247  7.972092e-13  0.001051\n",
       "Median Pathes                     0.998267  7.874112e-13  0.001060"
      ]
     },
     "metadata": {},
     "output_type": "display_data"
    },
    {
     "name": "stdout",
     "output_type": "stream",
     "text": [
      "0.16176470588235295\n",
      "Now Testing: DASH_BTC\n"
     ]
    },
    {
     "name": "stderr",
     "output_type": "stream",
     "text": [
      "100%|██████████| 11512/11512 [00:00<00:00, 13296.74it/s]\n"
     ]
    },
    {
     "data": {
      "text/html": [
       "<div>\n",
       "<style scoped>\n",
       "    .dataframe tbody tr th:only-of-type {\n",
       "        vertical-align: middle;\n",
       "    }\n",
       "\n",
       "    .dataframe tbody tr th {\n",
       "        vertical-align: top;\n",
       "    }\n",
       "\n",
       "    .dataframe thead th {\n",
       "        text-align: right;\n",
       "    }\n",
       "</style>\n",
       "<table border=\"1\" class=\"dataframe\">\n",
       "  <thead>\n",
       "    <tr style=\"text-align: right;\">\n",
       "      <th></th>\n",
       "      <th>R square</th>\n",
       "      <th>MSE</th>\n",
       "      <th>MAPE</th>\n",
       "    </tr>\n",
       "  </thead>\n",
       "  <tbody>\n",
       "    <tr>\n",
       "      <th>DASH_BTC, Best Scoring Mins: 8000</th>\n",
       "      <td>0.996406</td>\n",
       "      <td>7.200661e-12</td>\n",
       "      <td>0.000870</td>\n",
       "    </tr>\n",
       "    <tr>\n",
       "      <th>Median Pathes</th>\n",
       "      <td>0.995970</td>\n",
       "      <td>8.098857e-12</td>\n",
       "      <td>0.000935</td>\n",
       "    </tr>\n",
       "  </tbody>\n",
       "</table>\n",
       "</div>"
      ],
      "text/plain": [
       "                                   R square           MSE      MAPE\n",
       "DASH_BTC, Best Scoring Mins: 8000  0.996406  7.200661e-12  0.000870\n",
       "Median Pathes                      0.995970  8.098857e-12  0.000935"
      ]
     },
     "metadata": {},
     "output_type": "display_data"
    },
    {
     "name": "stdout",
     "output_type": "stream",
     "text": [
      "0.17647058823529413\n",
      "Now Testing: DCR_BTC\n"
     ]
    },
    {
     "name": "stderr",
     "output_type": "stream",
     "text": [
      "100%|██████████| 11505/11505 [00:00<00:00, 12864.63it/s]\n"
     ]
    },
    {
     "data": {
      "text/html": [
       "<div>\n",
       "<style scoped>\n",
       "    .dataframe tbody tr th:only-of-type {\n",
       "        vertical-align: middle;\n",
       "    }\n",
       "\n",
       "    .dataframe tbody tr th {\n",
       "        vertical-align: top;\n",
       "    }\n",
       "\n",
       "    .dataframe thead th {\n",
       "        text-align: right;\n",
       "    }\n",
       "</style>\n",
       "<table border=\"1\" class=\"dataframe\">\n",
       "  <thead>\n",
       "    <tr style=\"text-align: right;\">\n",
       "      <th></th>\n",
       "      <th>R square</th>\n",
       "      <th>MSE</th>\n",
       "      <th>MAPE</th>\n",
       "    </tr>\n",
       "  </thead>\n",
       "  <tbody>\n",
       "    <tr>\n",
       "      <th>DCR_BTC, Best Scoring Mins: 1</th>\n",
       "      <td>0.768333</td>\n",
       "      <td>8.400610e-11</td>\n",
       "      <td>0.004708</td>\n",
       "    </tr>\n",
       "    <tr>\n",
       "      <th>Median Pathes</th>\n",
       "      <td>0.852428</td>\n",
       "      <td>4.805435e-11</td>\n",
       "      <td>0.004642</td>\n",
       "    </tr>\n",
       "  </tbody>\n",
       "</table>\n",
       "</div>"
      ],
      "text/plain": [
       "                               R square           MSE      MAPE\n",
       "DCR_BTC, Best Scoring Mins: 1  0.768333  8.400610e-11  0.004708\n",
       "Median Pathes                  0.852428  4.805435e-11  0.004642"
      ]
     },
     "metadata": {},
     "output_type": "display_data"
    },
    {
     "name": "stdout",
     "output_type": "stream",
     "text": [
      "0.17647058823529413\n",
      "Now Testing: DOGE_BTC\n"
     ]
    },
    {
     "name": "stderr",
     "output_type": "stream",
     "text": [
      "100%|██████████| 11509/11509 [00:01<00:00, 10584.54it/s]\n"
     ]
    },
    {
     "data": {
      "text/html": [
       "<div>\n",
       "<style scoped>\n",
       "    .dataframe tbody tr th:only-of-type {\n",
       "        vertical-align: middle;\n",
       "    }\n",
       "\n",
       "    .dataframe tbody tr th {\n",
       "        vertical-align: top;\n",
       "    }\n",
       "\n",
       "    .dataframe thead th {\n",
       "        text-align: right;\n",
       "    }\n",
       "</style>\n",
       "<table border=\"1\" class=\"dataframe\">\n",
       "  <thead>\n",
       "    <tr style=\"text-align: right;\">\n",
       "      <th></th>\n",
       "      <th>R square</th>\n",
       "      <th>MSE</th>\n",
       "      <th>MAPE</th>\n",
       "    </tr>\n",
       "  </thead>\n",
       "  <tbody>\n",
       "    <tr>\n",
       "      <th>DOGE_BTC, Best Scoring Mins: 1000</th>\n",
       "      <td>0.998300</td>\n",
       "      <td>4.116040e-18</td>\n",
       "      <td>0.000221</td>\n",
       "    </tr>\n",
       "    <tr>\n",
       "      <th>Median Pathes</th>\n",
       "      <td>0.998287</td>\n",
       "      <td>4.147233e-18</td>\n",
       "      <td>0.000228</td>\n",
       "    </tr>\n",
       "  </tbody>\n",
       "</table>\n",
       "</div>"
      ],
      "text/plain": [
       "                                   R square           MSE      MAPE\n",
       "DOGE_BTC, Best Scoring Mins: 1000  0.998300  4.116040e-18  0.000221\n",
       "Median Pathes                      0.998287  4.147233e-18  0.000228"
      ]
     },
     "metadata": {},
     "output_type": "display_data"
    },
    {
     "name": "stdout",
     "output_type": "stream",
     "text": [
      "0.19117647058823528\n",
      "Now Testing: DOT_BTC\n"
     ]
    },
    {
     "name": "stderr",
     "output_type": "stream",
     "text": [
      "100%|██████████| 11507/11507 [00:00<00:00, 12631.48it/s]\n"
     ]
    },
    {
     "data": {
      "text/html": [
       "<div>\n",
       "<style scoped>\n",
       "    .dataframe tbody tr th:only-of-type {\n",
       "        vertical-align: middle;\n",
       "    }\n",
       "\n",
       "    .dataframe tbody tr th {\n",
       "        vertical-align: top;\n",
       "    }\n",
       "\n",
       "    .dataframe thead th {\n",
       "        text-align: right;\n",
       "    }\n",
       "</style>\n",
       "<table border=\"1\" class=\"dataframe\">\n",
       "  <thead>\n",
       "    <tr style=\"text-align: right;\">\n",
       "      <th></th>\n",
       "      <th>R square</th>\n",
       "      <th>MSE</th>\n",
       "      <th>MAPE</th>\n",
       "    </tr>\n",
       "  </thead>\n",
       "  <tbody>\n",
       "    <tr>\n",
       "      <th>DOT_BTC, Best Scoring Mins: 8000</th>\n",
       "      <td>0.999185</td>\n",
       "      <td>2.325919e-14</td>\n",
       "      <td>0.000414</td>\n",
       "    </tr>\n",
       "    <tr>\n",
       "      <th>Median Pathes</th>\n",
       "      <td>0.999191</td>\n",
       "      <td>2.310680e-14</td>\n",
       "      <td>0.000413</td>\n",
       "    </tr>\n",
       "  </tbody>\n",
       "</table>\n",
       "</div>"
      ],
      "text/plain": [
       "                                  R square           MSE      MAPE\n",
       "DOT_BTC, Best Scoring Mins: 8000  0.999185  2.325919e-14  0.000414\n",
       "Median Pathes                     0.999191  2.310680e-14  0.000413"
      ]
     },
     "metadata": {},
     "output_type": "display_data"
    },
    {
     "name": "stdout",
     "output_type": "stream",
     "text": [
      "0.20588235294117646\n",
      "Now Testing: ENJ_BTC\n"
     ]
    },
    {
     "name": "stderr",
     "output_type": "stream",
     "text": [
      "100%|██████████| 11512/11512 [00:00<00:00, 12562.78it/s]\n"
     ]
    },
    {
     "data": {
      "text/html": [
       "<div>\n",
       "<style scoped>\n",
       "    .dataframe tbody tr th:only-of-type {\n",
       "        vertical-align: middle;\n",
       "    }\n",
       "\n",
       "    .dataframe tbody tr th {\n",
       "        vertical-align: top;\n",
       "    }\n",
       "\n",
       "    .dataframe thead th {\n",
       "        text-align: right;\n",
       "    }\n",
       "</style>\n",
       "<table border=\"1\" class=\"dataframe\">\n",
       "  <thead>\n",
       "    <tr style=\"text-align: right;\">\n",
       "      <th></th>\n",
       "      <th>R square</th>\n",
       "      <th>MSE</th>\n",
       "      <th>MAPE</th>\n",
       "    </tr>\n",
       "  </thead>\n",
       "  <tbody>\n",
       "    <tr>\n",
       "      <th>ENJ_BTC, Best Scoring Mins: 1000</th>\n",
       "      <td>0.998738</td>\n",
       "      <td>3.436957e-16</td>\n",
       "      <td>0.000651</td>\n",
       "    </tr>\n",
       "    <tr>\n",
       "      <th>Median Pathes</th>\n",
       "      <td>0.998713</td>\n",
       "      <td>3.500087e-16</td>\n",
       "      <td>0.000643</td>\n",
       "    </tr>\n",
       "  </tbody>\n",
       "</table>\n",
       "</div>"
      ],
      "text/plain": [
       "                                  R square           MSE      MAPE\n",
       "ENJ_BTC, Best Scoring Mins: 1000  0.998738  3.436957e-16  0.000651\n",
       "Median Pathes                     0.998713  3.500087e-16  0.000643"
      ]
     },
     "metadata": {},
     "output_type": "display_data"
    },
    {
     "name": "stdout",
     "output_type": "stream",
     "text": [
      "0.22058823529411764\n",
      "Now Testing: EOS_BTC\n"
     ]
    },
    {
     "name": "stderr",
     "output_type": "stream",
     "text": [
      "100%|██████████| 11512/11512 [00:00<00:00, 11737.63it/s]\n"
     ]
    },
    {
     "data": {
      "text/html": [
       "<div>\n",
       "<style scoped>\n",
       "    .dataframe tbody tr th:only-of-type {\n",
       "        vertical-align: middle;\n",
       "    }\n",
       "\n",
       "    .dataframe tbody tr th {\n",
       "        vertical-align: top;\n",
       "    }\n",
       "\n",
       "    .dataframe thead th {\n",
       "        text-align: right;\n",
       "    }\n",
       "</style>\n",
       "<table border=\"1\" class=\"dataframe\">\n",
       "  <thead>\n",
       "    <tr style=\"text-align: right;\">\n",
       "      <th></th>\n",
       "      <th>R square</th>\n",
       "      <th>MSE</th>\n",
       "      <th>MAPE</th>\n",
       "    </tr>\n",
       "  </thead>\n",
       "  <tbody>\n",
       "    <tr>\n",
       "      <th>EOS_BTC, Best Scoring Mins: 500</th>\n",
       "      <td>0.999635</td>\n",
       "      <td>1.758359e-15</td>\n",
       "      <td>0.000449</td>\n",
       "    </tr>\n",
       "    <tr>\n",
       "      <th>Median Pathes</th>\n",
       "      <td>0.999621</td>\n",
       "      <td>1.826766e-15</td>\n",
       "      <td>0.000455</td>\n",
       "    </tr>\n",
       "  </tbody>\n",
       "</table>\n",
       "</div>"
      ],
      "text/plain": [
       "                                 R square           MSE      MAPE\n",
       "EOS_BTC, Best Scoring Mins: 500  0.999635  1.758359e-15  0.000449\n",
       "Median Pathes                    0.999621  1.826766e-15  0.000455"
      ]
     },
     "metadata": {},
     "output_type": "display_data"
    },
    {
     "name": "stdout",
     "output_type": "stream",
     "text": [
      "0.23529411764705882\n",
      "Now Testing: EOS_ETH\n"
     ]
    },
    {
     "name": "stderr",
     "output_type": "stream",
     "text": [
      "100%|██████████| 11506/11506 [00:00<00:00, 12353.09it/s]\n"
     ]
    },
    {
     "data": {
      "text/html": [
       "<div>\n",
       "<style scoped>\n",
       "    .dataframe tbody tr th:only-of-type {\n",
       "        vertical-align: middle;\n",
       "    }\n",
       "\n",
       "    .dataframe tbody tr th {\n",
       "        vertical-align: top;\n",
       "    }\n",
       "\n",
       "    .dataframe thead th {\n",
       "        text-align: right;\n",
       "    }\n",
       "</style>\n",
       "<table border=\"1\" class=\"dataframe\">\n",
       "  <thead>\n",
       "    <tr style=\"text-align: right;\">\n",
       "      <th></th>\n",
       "      <th>R square</th>\n",
       "      <th>MSE</th>\n",
       "      <th>MAPE</th>\n",
       "    </tr>\n",
       "  </thead>\n",
       "  <tbody>\n",
       "    <tr>\n",
       "      <th>EOS_ETH, Best Scoring Mins: 1</th>\n",
       "      <td>0.041088</td>\n",
       "      <td>1.830496e-08</td>\n",
       "      <td>0.001011</td>\n",
       "    </tr>\n",
       "    <tr>\n",
       "      <th>Median Pathes</th>\n",
       "      <td>0.999527</td>\n",
       "      <td>3.816532e-13</td>\n",
       "      <td>0.000514</td>\n",
       "    </tr>\n",
       "  </tbody>\n",
       "</table>\n",
       "</div>"
      ],
      "text/plain": [
       "                               R square           MSE      MAPE\n",
       "EOS_ETH, Best Scoring Mins: 1  0.041088  1.830496e-08  0.001011\n",
       "Median Pathes                  0.999527  3.816532e-13  0.000514"
      ]
     },
     "metadata": {},
     "output_type": "display_data"
    },
    {
     "name": "stdout",
     "output_type": "stream",
     "text": [
      "0.23529411764705882\n",
      "Now Testing: ETC_BTC\n"
     ]
    },
    {
     "name": "stderr",
     "output_type": "stream",
     "text": [
      "100%|██████████| 11512/11512 [00:00<00:00, 12627.82it/s]\n"
     ]
    },
    {
     "data": {
      "text/html": [
       "<div>\n",
       "<style scoped>\n",
       "    .dataframe tbody tr th:only-of-type {\n",
       "        vertical-align: middle;\n",
       "    }\n",
       "\n",
       "    .dataframe tbody tr th {\n",
       "        vertical-align: top;\n",
       "    }\n",
       "\n",
       "    .dataframe thead th {\n",
       "        text-align: right;\n",
       "    }\n",
       "</style>\n",
       "<table border=\"1\" class=\"dataframe\">\n",
       "  <thead>\n",
       "    <tr style=\"text-align: right;\">\n",
       "      <th></th>\n",
       "      <th>R square</th>\n",
       "      <th>MSE</th>\n",
       "      <th>MAPE</th>\n",
       "    </tr>\n",
       "  </thead>\n",
       "  <tbody>\n",
       "    <tr>\n",
       "      <th>ETC_BTC, Best Scoring Mins: 500</th>\n",
       "      <td>0.999913</td>\n",
       "      <td>5.846496e-13</td>\n",
       "      <td>0.000403</td>\n",
       "    </tr>\n",
       "    <tr>\n",
       "      <th>Median Pathes</th>\n",
       "      <td>0.999914</td>\n",
       "      <td>5.806024e-13</td>\n",
       "      <td>0.000401</td>\n",
       "    </tr>\n",
       "  </tbody>\n",
       "</table>\n",
       "</div>"
      ],
      "text/plain": [
       "                                 R square           MSE      MAPE\n",
       "ETC_BTC, Best Scoring Mins: 500  0.999913  5.846496e-13  0.000403\n",
       "Median Pathes                    0.999914  5.806024e-13  0.000401"
      ]
     },
     "metadata": {},
     "output_type": "display_data"
    },
    {
     "name": "stdout",
     "output_type": "stream",
     "text": [
      "0.25\n",
      "Now Testing: ETC_ETH\n"
     ]
    },
    {
     "name": "stderr",
     "output_type": "stream",
     "text": [
      "100%|██████████| 11505/11505 [00:00<00:00, 13001.69it/s]\n"
     ]
    },
    {
     "data": {
      "text/html": [
       "<div>\n",
       "<style scoped>\n",
       "    .dataframe tbody tr th:only-of-type {\n",
       "        vertical-align: middle;\n",
       "    }\n",
       "\n",
       "    .dataframe tbody tr th {\n",
       "        vertical-align: top;\n",
       "    }\n",
       "\n",
       "    .dataframe thead th {\n",
       "        text-align: right;\n",
       "    }\n",
       "</style>\n",
       "<table border=\"1\" class=\"dataframe\">\n",
       "  <thead>\n",
       "    <tr style=\"text-align: right;\">\n",
       "      <th></th>\n",
       "      <th>R square</th>\n",
       "      <th>MSE</th>\n",
       "      <th>MAPE</th>\n",
       "    </tr>\n",
       "  </thead>\n",
       "  <tbody>\n",
       "    <tr>\n",
       "      <th>ETC_ETH, Best Scoring Mins: 1000</th>\n",
       "      <td>0.999780</td>\n",
       "      <td>2.708706e-10</td>\n",
       "      <td>0.000669</td>\n",
       "    </tr>\n",
       "    <tr>\n",
       "      <th>Median Pathes</th>\n",
       "      <td>0.999765</td>\n",
       "      <td>2.892609e-10</td>\n",
       "      <td>0.000712</td>\n",
       "    </tr>\n",
       "  </tbody>\n",
       "</table>\n",
       "</div>"
      ],
      "text/plain": [
       "                                  R square           MSE      MAPE\n",
       "ETC_ETH, Best Scoring Mins: 1000  0.999780  2.708706e-10  0.000669\n",
       "Median Pathes                     0.999765  2.892609e-10  0.000712"
      ]
     },
     "metadata": {},
     "output_type": "display_data"
    },
    {
     "name": "stdout",
     "output_type": "stream",
     "text": [
      "0.2647058823529412\n",
      "Now Testing: ETH_BTC\n"
     ]
    },
    {
     "name": "stderr",
     "output_type": "stream",
     "text": [
      "100%|██████████| 11512/11512 [00:01<00:00, 11390.96it/s]\n"
     ]
    },
    {
     "data": {
      "text/html": [
       "<div>\n",
       "<style scoped>\n",
       "    .dataframe tbody tr th:only-of-type {\n",
       "        vertical-align: middle;\n",
       "    }\n",
       "\n",
       "    .dataframe tbody tr th {\n",
       "        vertical-align: top;\n",
       "    }\n",
       "\n",
       "    .dataframe thead th {\n",
       "        text-align: right;\n",
       "    }\n",
       "</style>\n",
       "<table border=\"1\" class=\"dataframe\">\n",
       "  <thead>\n",
       "    <tr style=\"text-align: right;\">\n",
       "      <th></th>\n",
       "      <th>R square</th>\n",
       "      <th>MSE</th>\n",
       "      <th>MAPE</th>\n",
       "    </tr>\n",
       "  </thead>\n",
       "  <tbody>\n",
       "    <tr>\n",
       "      <th>ETH_BTC, Best Scoring Mins: 1000</th>\n",
       "      <td>0.99909</td>\n",
       "      <td>2.079416e-10</td>\n",
       "      <td>0.000183</td>\n",
       "    </tr>\n",
       "    <tr>\n",
       "      <th>Median Pathes</th>\n",
       "      <td>0.99907</td>\n",
       "      <td>2.126229e-10</td>\n",
       "      <td>0.000185</td>\n",
       "    </tr>\n",
       "  </tbody>\n",
       "</table>\n",
       "</div>"
      ],
      "text/plain": [
       "                                  R square           MSE      MAPE\n",
       "ETH_BTC, Best Scoring Mins: 1000   0.99909  2.079416e-10  0.000183\n",
       "Median Pathes                      0.99907  2.126229e-10  0.000185"
      ]
     },
     "metadata": {},
     "output_type": "display_data"
    },
    {
     "name": "stdout",
     "output_type": "stream",
     "text": [
      "0.27941176470588236\n",
      "Now Testing: FIL_BTC\n"
     ]
    },
    {
     "name": "stderr",
     "output_type": "stream",
     "text": [
      "100%|██████████| 11506/11506 [00:01<00:00, 11302.65it/s]\n"
     ]
    },
    {
     "data": {
      "text/html": [
       "<div>\n",
       "<style scoped>\n",
       "    .dataframe tbody tr th:only-of-type {\n",
       "        vertical-align: middle;\n",
       "    }\n",
       "\n",
       "    .dataframe tbody tr th {\n",
       "        vertical-align: top;\n",
       "    }\n",
       "\n",
       "    .dataframe thead th {\n",
       "        text-align: right;\n",
       "    }\n",
       "</style>\n",
       "<table border=\"1\" class=\"dataframe\">\n",
       "  <thead>\n",
       "    <tr style=\"text-align: right;\">\n",
       "      <th></th>\n",
       "      <th>R square</th>\n",
       "      <th>MSE</th>\n",
       "      <th>MAPE</th>\n",
       "    </tr>\n",
       "  </thead>\n",
       "  <tbody>\n",
       "    <tr>\n",
       "      <th>FIL_BTC, Best Scoring Mins: 8000</th>\n",
       "      <td>0.997139</td>\n",
       "      <td>1.107643e-13</td>\n",
       "      <td>0.000913</td>\n",
       "    </tr>\n",
       "    <tr>\n",
       "      <th>Median Pathes</th>\n",
       "      <td>0.997040</td>\n",
       "      <td>1.145634e-13</td>\n",
       "      <td>0.000926</td>\n",
       "    </tr>\n",
       "  </tbody>\n",
       "</table>\n",
       "</div>"
      ],
      "text/plain": [
       "                                  R square           MSE      MAPE\n",
       "FIL_BTC, Best Scoring Mins: 8000  0.997139  1.107643e-13  0.000913\n",
       "Median Pathes                     0.997040  1.145634e-13  0.000926"
      ]
     },
     "metadata": {},
     "output_type": "display_data"
    },
    {
     "name": "stdout",
     "output_type": "stream",
     "text": [
      "0.29411764705882354\n",
      "Now Testing: FIL_ETH\n"
     ]
    },
    {
     "name": "stderr",
     "output_type": "stream",
     "text": [
      "100%|██████████| 11452/11452 [00:00<00:00, 12123.75it/s]\n"
     ]
    },
    {
     "data": {
      "text/html": [
       "<div>\n",
       "<style scoped>\n",
       "    .dataframe tbody tr th:only-of-type {\n",
       "        vertical-align: middle;\n",
       "    }\n",
       "\n",
       "    .dataframe tbody tr th {\n",
       "        vertical-align: top;\n",
       "    }\n",
       "\n",
       "    .dataframe thead th {\n",
       "        text-align: right;\n",
       "    }\n",
       "</style>\n",
       "<table border=\"1\" class=\"dataframe\">\n",
       "  <thead>\n",
       "    <tr style=\"text-align: right;\">\n",
       "      <th></th>\n",
       "      <th>R square</th>\n",
       "      <th>MSE</th>\n",
       "      <th>MAPE</th>\n",
       "    </tr>\n",
       "  </thead>\n",
       "  <tbody>\n",
       "    <tr>\n",
       "      <th>FIL_ETH, Best Scoring Mins: 1000</th>\n",
       "      <td>0.935125</td>\n",
       "      <td>4.092468e-10</td>\n",
       "      <td>0.003182</td>\n",
       "    </tr>\n",
       "    <tr>\n",
       "      <th>Median Pathes</th>\n",
       "      <td>0.917058</td>\n",
       "      <td>5.258566e-10</td>\n",
       "      <td>0.003950</td>\n",
       "    </tr>\n",
       "  </tbody>\n",
       "</table>\n",
       "</div>"
      ],
      "text/plain": [
       "                                  R square           MSE      MAPE\n",
       "FIL_ETH, Best Scoring Mins: 1000  0.935125  4.092468e-10  0.003182\n",
       "Median Pathes                     0.917058  5.258566e-10  0.003950"
      ]
     },
     "metadata": {},
     "output_type": "display_data"
    },
    {
     "name": "stdout",
     "output_type": "stream",
     "text": [
      "0.3088235294117647\n",
      "Now Testing: GRT_BTC\n"
     ]
    },
    {
     "name": "stderr",
     "output_type": "stream",
     "text": [
      "100%|██████████| 11509/11509 [00:00<00:00, 12847.63it/s]\n"
     ]
    },
    {
     "data": {
      "text/html": [
       "<div>\n",
       "<style scoped>\n",
       "    .dataframe tbody tr th:only-of-type {\n",
       "        vertical-align: middle;\n",
       "    }\n",
       "\n",
       "    .dataframe tbody tr th {\n",
       "        vertical-align: top;\n",
       "    }\n",
       "\n",
       "    .dataframe thead th {\n",
       "        text-align: right;\n",
       "    }\n",
       "</style>\n",
       "<table border=\"1\" class=\"dataframe\">\n",
       "  <thead>\n",
       "    <tr style=\"text-align: right;\">\n",
       "      <th></th>\n",
       "      <th>R square</th>\n",
       "      <th>MSE</th>\n",
       "      <th>MAPE</th>\n",
       "    </tr>\n",
       "  </thead>\n",
       "  <tbody>\n",
       "    <tr>\n",
       "      <th>GRT_BTC, Best Scoring Mins: 5000</th>\n",
       "      <td>0.998679</td>\n",
       "      <td>5.483752e-17</td>\n",
       "      <td>0.001135</td>\n",
       "    </tr>\n",
       "    <tr>\n",
       "      <th>Median Pathes</th>\n",
       "      <td>0.998596</td>\n",
       "      <td>5.816318e-17</td>\n",
       "      <td>0.001151</td>\n",
       "    </tr>\n",
       "  </tbody>\n",
       "</table>\n",
       "</div>"
      ],
      "text/plain": [
       "                                  R square           MSE      MAPE\n",
       "GRT_BTC, Best Scoring Mins: 5000  0.998679  5.483752e-17  0.001135\n",
       "Median Pathes                     0.998596  5.816318e-17  0.001151"
      ]
     },
     "metadata": {},
     "output_type": "display_data"
    },
    {
     "name": "stdout",
     "output_type": "stream",
     "text": [
      "0.3235294117647059\n",
      "Now Testing: ICX_BTC\n"
     ]
    },
    {
     "name": "stderr",
     "output_type": "stream",
     "text": [
      "100%|██████████| 11504/11504 [00:00<00:00, 13136.04it/s]\n"
     ]
    },
    {
     "data": {
      "text/html": [
       "<div>\n",
       "<style scoped>\n",
       "    .dataframe tbody tr th:only-of-type {\n",
       "        vertical-align: middle;\n",
       "    }\n",
       "\n",
       "    .dataframe tbody tr th {\n",
       "        vertical-align: top;\n",
       "    }\n",
       "\n",
       "    .dataframe thead th {\n",
       "        text-align: right;\n",
       "    }\n",
       "</style>\n",
       "<table border=\"1\" class=\"dataframe\">\n",
       "  <thead>\n",
       "    <tr style=\"text-align: right;\">\n",
       "      <th></th>\n",
       "      <th>R square</th>\n",
       "      <th>MSE</th>\n",
       "      <th>MAPE</th>\n",
       "    </tr>\n",
       "  </thead>\n",
       "  <tbody>\n",
       "    <tr>\n",
       "      <th>ICX_BTC, Best Scoring Mins: 5000</th>\n",
       "      <td>0.968339</td>\n",
       "      <td>4.846697e-15</td>\n",
       "      <td>0.005038</td>\n",
       "    </tr>\n",
       "    <tr>\n",
       "      <th>Median Pathes</th>\n",
       "      <td>0.968657</td>\n",
       "      <td>4.806965e-15</td>\n",
       "      <td>0.005086</td>\n",
       "    </tr>\n",
       "  </tbody>\n",
       "</table>\n",
       "</div>"
      ],
      "text/plain": [
       "                                  R square           MSE      MAPE\n",
       "ICX_BTC, Best Scoring Mins: 5000  0.968339  4.846697e-15  0.005038\n",
       "Median Pathes                     0.968657  4.806965e-15  0.005086"
      ]
     },
     "metadata": {},
     "output_type": "display_data"
    },
    {
     "name": "stdout",
     "output_type": "stream",
     "text": [
      "0.3235294117647059\n",
      "Now Testing: IOST_BTC\n"
     ]
    },
    {
     "name": "stderr",
     "output_type": "stream",
     "text": [
      "100%|██████████| 11512/11512 [00:00<00:00, 12240.74it/s]\n"
     ]
    },
    {
     "data": {
      "text/html": [
       "<div>\n",
       "<style scoped>\n",
       "    .dataframe tbody tr th:only-of-type {\n",
       "        vertical-align: middle;\n",
       "    }\n",
       "\n",
       "    .dataframe tbody tr th {\n",
       "        vertical-align: top;\n",
       "    }\n",
       "\n",
       "    .dataframe thead th {\n",
       "        text-align: right;\n",
       "    }\n",
       "</style>\n",
       "<table border=\"1\" class=\"dataframe\">\n",
       "  <thead>\n",
       "    <tr style=\"text-align: right;\">\n",
       "      <th></th>\n",
       "      <th>R square</th>\n",
       "      <th>MSE</th>\n",
       "      <th>MAPE</th>\n",
       "    </tr>\n",
       "  </thead>\n",
       "  <tbody>\n",
       "    <tr>\n",
       "      <th>IOST_BTC, Best Scoring Mins: 1</th>\n",
       "      <td>0.785458</td>\n",
       "      <td>1.706567e-17</td>\n",
       "      <td>0.004789</td>\n",
       "    </tr>\n",
       "    <tr>\n",
       "      <th>Median Pathes</th>\n",
       "      <td>0.789855</td>\n",
       "      <td>1.656187e-17</td>\n",
       "      <td>0.004755</td>\n",
       "    </tr>\n",
       "  </tbody>\n",
       "</table>\n",
       "</div>"
      ],
      "text/plain": [
       "                                R square           MSE      MAPE\n",
       "IOST_BTC, Best Scoring Mins: 1  0.785458  1.706567e-17  0.004789\n",
       "Median Pathes                   0.789855  1.656187e-17  0.004755"
      ]
     },
     "metadata": {},
     "output_type": "display_data"
    },
    {
     "name": "stdout",
     "output_type": "stream",
     "text": [
      "0.3235294117647059\n",
      "Now Testing: IOTA_BTC\n"
     ]
    },
    {
     "name": "stderr",
     "output_type": "stream",
     "text": [
      "100%|██████████| 11510/11510 [00:00<00:00, 11850.91it/s]\n"
     ]
    },
    {
     "data": {
      "text/html": [
       "<div>\n",
       "<style scoped>\n",
       "    .dataframe tbody tr th:only-of-type {\n",
       "        vertical-align: middle;\n",
       "    }\n",
       "\n",
       "    .dataframe tbody tr th {\n",
       "        vertical-align: top;\n",
       "    }\n",
       "\n",
       "    .dataframe thead th {\n",
       "        text-align: right;\n",
       "    }\n",
       "</style>\n",
       "<table border=\"1\" class=\"dataframe\">\n",
       "  <thead>\n",
       "    <tr style=\"text-align: right;\">\n",
       "      <th></th>\n",
       "      <th>R square</th>\n",
       "      <th>MSE</th>\n",
       "      <th>MAPE</th>\n",
       "    </tr>\n",
       "  </thead>\n",
       "  <tbody>\n",
       "    <tr>\n",
       "      <th>IOTA_BTC, Best Scoring Mins: 8000</th>\n",
       "      <td>0.915672</td>\n",
       "      <td>1.041885e-14</td>\n",
       "      <td>0.006532</td>\n",
       "    </tr>\n",
       "    <tr>\n",
       "      <th>Median Pathes</th>\n",
       "      <td>0.918072</td>\n",
       "      <td>1.005697e-14</td>\n",
       "      <td>0.006499</td>\n",
       "    </tr>\n",
       "  </tbody>\n",
       "</table>\n",
       "</div>"
      ],
      "text/plain": [
       "                                   R square           MSE      MAPE\n",
       "IOTA_BTC, Best Scoring Mins: 8000  0.915672  1.041885e-14  0.006532\n",
       "Median Pathes                      0.918072  1.005697e-14  0.006499"
      ]
     },
     "metadata": {},
     "output_type": "display_data"
    },
    {
     "name": "stdout",
     "output_type": "stream",
     "text": [
      "0.3235294117647059\n",
      "Now Testing: KNC1_BTC\n"
     ]
    },
    {
     "name": "stderr",
     "output_type": "stream",
     "text": [
      "100%|██████████| 11512/11512 [00:00<00:00, 13019.97it/s]\n"
     ]
    },
    {
     "data": {
      "text/html": [
       "<div>\n",
       "<style scoped>\n",
       "    .dataframe tbody tr th:only-of-type {\n",
       "        vertical-align: middle;\n",
       "    }\n",
       "\n",
       "    .dataframe tbody tr th {\n",
       "        vertical-align: top;\n",
       "    }\n",
       "\n",
       "    .dataframe thead th {\n",
       "        text-align: right;\n",
       "    }\n",
       "</style>\n",
       "<table border=\"1\" class=\"dataframe\">\n",
       "  <thead>\n",
       "    <tr style=\"text-align: right;\">\n",
       "      <th></th>\n",
       "      <th>R square</th>\n",
       "      <th>MSE</th>\n",
       "      <th>MAPE</th>\n",
       "    </tr>\n",
       "  </thead>\n",
       "  <tbody>\n",
       "    <tr>\n",
       "      <th>KNC1_BTC, Best Scoring Mins: 5000</th>\n",
       "      <td>0.999624</td>\n",
       "      <td>4.394050e-15</td>\n",
       "      <td>0.000996</td>\n",
       "    </tr>\n",
       "    <tr>\n",
       "      <th>Median Pathes</th>\n",
       "      <td>0.999612</td>\n",
       "      <td>4.531923e-15</td>\n",
       "      <td>0.001017</td>\n",
       "    </tr>\n",
       "  </tbody>\n",
       "</table>\n",
       "</div>"
      ],
      "text/plain": [
       "                                   R square           MSE      MAPE\n",
       "KNC1_BTC, Best Scoring Mins: 5000  0.999624  4.394050e-15  0.000996\n",
       "Median Pathes                      0.999612  4.531923e-15  0.001017"
      ]
     },
     "metadata": {},
     "output_type": "display_data"
    },
    {
     "name": "stdout",
     "output_type": "stream",
     "text": [
      "0.3382352941176471\n",
      "Now Testing: LINK_BTC\n"
     ]
    },
    {
     "name": "stderr",
     "output_type": "stream",
     "text": [
      "100%|██████████| 11512/11512 [00:00<00:00, 11888.13it/s]\n"
     ]
    },
    {
     "data": {
      "text/html": [
       "<div>\n",
       "<style scoped>\n",
       "    .dataframe tbody tr th:only-of-type {\n",
       "        vertical-align: middle;\n",
       "    }\n",
       "\n",
       "    .dataframe tbody tr th {\n",
       "        vertical-align: top;\n",
       "    }\n",
       "\n",
       "    .dataframe thead th {\n",
       "        text-align: right;\n",
       "    }\n",
       "</style>\n",
       "<table border=\"1\" class=\"dataframe\">\n",
       "  <thead>\n",
       "    <tr style=\"text-align: right;\">\n",
       "      <th></th>\n",
       "      <th>R square</th>\n",
       "      <th>MSE</th>\n",
       "      <th>MAPE</th>\n",
       "    </tr>\n",
       "  </thead>\n",
       "  <tbody>\n",
       "    <tr>\n",
       "      <th>LINK_BTC, Best Scoring Mins: 8000</th>\n",
       "      <td>0.998326</td>\n",
       "      <td>2.108887e-13</td>\n",
       "      <td>0.001133</td>\n",
       "    </tr>\n",
       "    <tr>\n",
       "      <th>Median Pathes</th>\n",
       "      <td>0.998334</td>\n",
       "      <td>2.098097e-13</td>\n",
       "      <td>0.001130</td>\n",
       "    </tr>\n",
       "  </tbody>\n",
       "</table>\n",
       "</div>"
      ],
      "text/plain": [
       "                                   R square           MSE      MAPE\n",
       "LINK_BTC, Best Scoring Mins: 8000  0.998326  2.108887e-13  0.001133\n",
       "Median Pathes                      0.998334  2.098097e-13  0.001130"
      ]
     },
     "metadata": {},
     "output_type": "display_data"
    },
    {
     "name": "stdout",
     "output_type": "stream",
     "text": [
      "0.35294117647058826\n",
      "Now Testing: LINK_ETH\n"
     ]
    },
    {
     "name": "stderr",
     "output_type": "stream",
     "text": [
      "100%|██████████| 11512/11512 [00:00<00:00, 12394.58it/s]\n"
     ]
    },
    {
     "data": {
      "text/html": [
       "<div>\n",
       "<style scoped>\n",
       "    .dataframe tbody tr th:only-of-type {\n",
       "        vertical-align: middle;\n",
       "    }\n",
       "\n",
       "    .dataframe tbody tr th {\n",
       "        vertical-align: top;\n",
       "    }\n",
       "\n",
       "    .dataframe thead th {\n",
       "        text-align: right;\n",
       "    }\n",
       "</style>\n",
       "<table border=\"1\" class=\"dataframe\">\n",
       "  <thead>\n",
       "    <tr style=\"text-align: right;\">\n",
       "      <th></th>\n",
       "      <th>R square</th>\n",
       "      <th>MSE</th>\n",
       "      <th>MAPE</th>\n",
       "    </tr>\n",
       "  </thead>\n",
       "  <tbody>\n",
       "    <tr>\n",
       "      <th>LINK_ETH, Best Scoring Mins: 8000</th>\n",
       "      <td>0.998576</td>\n",
       "      <td>2.795545e-11</td>\n",
       "      <td>0.000846</td>\n",
       "    </tr>\n",
       "    <tr>\n",
       "      <th>Median Pathes</th>\n",
       "      <td>0.998581</td>\n",
       "      <td>2.784599e-11</td>\n",
       "      <td>0.000842</td>\n",
       "    </tr>\n",
       "  </tbody>\n",
       "</table>\n",
       "</div>"
      ],
      "text/plain": [
       "                                   R square           MSE      MAPE\n",
       "LINK_ETH, Best Scoring Mins: 8000  0.998576  2.795545e-11  0.000846\n",
       "Median Pathes                      0.998581  2.784599e-11  0.000842"
      ]
     },
     "metadata": {},
     "output_type": "display_data"
    },
    {
     "name": "stdout",
     "output_type": "stream",
     "text": [
      "0.36764705882352944\n",
      "Now Testing: LRC_BTC\n"
     ]
    },
    {
     "name": "stderr",
     "output_type": "stream",
     "text": [
      "100%|██████████| 11512/11512 [00:00<00:00, 12581.60it/s]\n"
     ]
    },
    {
     "data": {
      "text/html": [
       "<div>\n",
       "<style scoped>\n",
       "    .dataframe tbody tr th:only-of-type {\n",
       "        vertical-align: middle;\n",
       "    }\n",
       "\n",
       "    .dataframe tbody tr th {\n",
       "        vertical-align: top;\n",
       "    }\n",
       "\n",
       "    .dataframe thead th {\n",
       "        text-align: right;\n",
       "    }\n",
       "</style>\n",
       "<table border=\"1\" class=\"dataframe\">\n",
       "  <thead>\n",
       "    <tr style=\"text-align: right;\">\n",
       "      <th></th>\n",
       "      <th>R square</th>\n",
       "      <th>MSE</th>\n",
       "      <th>MAPE</th>\n",
       "    </tr>\n",
       "  </thead>\n",
       "  <tbody>\n",
       "    <tr>\n",
       "      <th>LRC_BTC, Best Scoring Mins: 8000</th>\n",
       "      <td>0.999218</td>\n",
       "      <td>2.747647e-16</td>\n",
       "      <td>0.001084</td>\n",
       "    </tr>\n",
       "    <tr>\n",
       "      <th>Median Pathes</th>\n",
       "      <td>0.999200</td>\n",
       "      <td>2.809598e-16</td>\n",
       "      <td>0.001099</td>\n",
       "    </tr>\n",
       "  </tbody>\n",
       "</table>\n",
       "</div>"
      ],
      "text/plain": [
       "                                  R square           MSE      MAPE\n",
       "LRC_BTC, Best Scoring Mins: 8000  0.999218  2.747647e-16  0.001084\n",
       "Median Pathes                     0.999200  2.809598e-16  0.001099"
      ]
     },
     "metadata": {},
     "output_type": "display_data"
    },
    {
     "name": "stdout",
     "output_type": "stream",
     "text": [
      "0.38235294117647056\n",
      "Now Testing: LSK_BTC\n"
     ]
    },
    {
     "name": "stderr",
     "output_type": "stream",
     "text": [
      "100%|██████████| 11504/11504 [00:00<00:00, 12795.46it/s]\n"
     ]
    },
    {
     "data": {
      "text/html": [
       "<div>\n",
       "<style scoped>\n",
       "    .dataframe tbody tr th:only-of-type {\n",
       "        vertical-align: middle;\n",
       "    }\n",
       "\n",
       "    .dataframe tbody tr th {\n",
       "        vertical-align: top;\n",
       "    }\n",
       "\n",
       "    .dataframe thead th {\n",
       "        text-align: right;\n",
       "    }\n",
       "</style>\n",
       "<table border=\"1\" class=\"dataframe\">\n",
       "  <thead>\n",
       "    <tr style=\"text-align: right;\">\n",
       "      <th></th>\n",
       "      <th>R square</th>\n",
       "      <th>MSE</th>\n",
       "      <th>MAPE</th>\n",
       "    </tr>\n",
       "  </thead>\n",
       "  <tbody>\n",
       "    <tr>\n",
       "      <th>LSK_BTC, Best Scoring Mins: 1000</th>\n",
       "      <td>0.986851</td>\n",
       "      <td>3.942988e-14</td>\n",
       "      <td>0.003282</td>\n",
       "    </tr>\n",
       "    <tr>\n",
       "      <th>Median Pathes</th>\n",
       "      <td>0.984329</td>\n",
       "      <td>4.656786e-14</td>\n",
       "      <td>0.003592</td>\n",
       "    </tr>\n",
       "  </tbody>\n",
       "</table>\n",
       "</div>"
      ],
      "text/plain": [
       "                                  R square           MSE      MAPE\n",
       "LSK_BTC, Best Scoring Mins: 1000  0.986851  3.942988e-14  0.003282\n",
       "Median Pathes                     0.984329  4.656786e-14  0.003592"
      ]
     },
     "metadata": {},
     "output_type": "display_data"
    },
    {
     "name": "stdout",
     "output_type": "stream",
     "text": [
      "0.39705882352941174\n",
      "Now Testing: LTC_BTC\n"
     ]
    },
    {
     "name": "stderr",
     "output_type": "stream",
     "text": [
      "100%|██████████| 11512/11512 [00:00<00:00, 11574.93it/s]\n"
     ]
    },
    {
     "data": {
      "text/html": [
       "<div>\n",
       "<style scoped>\n",
       "    .dataframe tbody tr th:only-of-type {\n",
       "        vertical-align: middle;\n",
       "    }\n",
       "\n",
       "    .dataframe tbody tr th {\n",
       "        vertical-align: top;\n",
       "    }\n",
       "\n",
       "    .dataframe thead th {\n",
       "        text-align: right;\n",
       "    }\n",
       "</style>\n",
       "<table border=\"1\" class=\"dataframe\">\n",
       "  <thead>\n",
       "    <tr style=\"text-align: right;\">\n",
       "      <th></th>\n",
       "      <th>R square</th>\n",
       "      <th>MSE</th>\n",
       "      <th>MAPE</th>\n",
       "    </tr>\n",
       "  </thead>\n",
       "  <tbody>\n",
       "    <tr>\n",
       "      <th>LTC_BTC, Best Scoring Mins: 500</th>\n",
       "      <td>0.998819</td>\n",
       "      <td>1.805327e-12</td>\n",
       "      <td>0.000428</td>\n",
       "    </tr>\n",
       "    <tr>\n",
       "      <th>Median Pathes</th>\n",
       "      <td>0.998817</td>\n",
       "      <td>1.808447e-12</td>\n",
       "      <td>0.000427</td>\n",
       "    </tr>\n",
       "  </tbody>\n",
       "</table>\n",
       "</div>"
      ],
      "text/plain": [
       "                                 R square           MSE      MAPE\n",
       "LTC_BTC, Best Scoring Mins: 500  0.998819  1.805327e-12  0.000428\n",
       "Median Pathes                    0.998817  1.808447e-12  0.000427"
      ]
     },
     "metadata": {},
     "output_type": "display_data"
    },
    {
     "name": "stdout",
     "output_type": "stream",
     "text": [
      "0.4117647058823529\n",
      "Now Testing: MANA_BTC\n"
     ]
    },
    {
     "name": "stderr",
     "output_type": "stream",
     "text": [
      "100%|██████████| 11511/11511 [00:00<00:00, 13169.58it/s]\n"
     ]
    },
    {
     "data": {
      "text/html": [
       "<div>\n",
       "<style scoped>\n",
       "    .dataframe tbody tr th:only-of-type {\n",
       "        vertical-align: middle;\n",
       "    }\n",
       "\n",
       "    .dataframe tbody tr th {\n",
       "        vertical-align: top;\n",
       "    }\n",
       "\n",
       "    .dataframe thead th {\n",
       "        text-align: right;\n",
       "    }\n",
       "</style>\n",
       "<table border=\"1\" class=\"dataframe\">\n",
       "  <thead>\n",
       "    <tr style=\"text-align: right;\">\n",
       "      <th></th>\n",
       "      <th>R square</th>\n",
       "      <th>MSE</th>\n",
       "      <th>MAPE</th>\n",
       "    </tr>\n",
       "  </thead>\n",
       "  <tbody>\n",
       "    <tr>\n",
       "      <th>MANA_BTC, Best Scoring Mins: 5000</th>\n",
       "      <td>0.999865</td>\n",
       "      <td>1.668144e-16</td>\n",
       "      <td>0.000282</td>\n",
       "    </tr>\n",
       "    <tr>\n",
       "      <th>Median Pathes</th>\n",
       "      <td>0.999863</td>\n",
       "      <td>1.687603e-16</td>\n",
       "      <td>0.000282</td>\n",
       "    </tr>\n",
       "  </tbody>\n",
       "</table>\n",
       "</div>"
      ],
      "text/plain": [
       "                                   R square           MSE      MAPE\n",
       "MANA_BTC, Best Scoring Mins: 5000  0.999865  1.668144e-16  0.000282\n",
       "Median Pathes                      0.999863  1.687603e-16  0.000282"
      ]
     },
     "metadata": {},
     "output_type": "display_data"
    },
    {
     "name": "stdout",
     "output_type": "stream",
     "text": [
      "0.4264705882352941\n",
      "Now Testing: MANA_ETH\n"
     ]
    },
    {
     "name": "stderr",
     "output_type": "stream",
     "text": [
      "100%|██████████| 11502/11502 [00:00<00:00, 12743.38it/s]\n"
     ]
    },
    {
     "data": {
      "text/html": [
       "<div>\n",
       "<style scoped>\n",
       "    .dataframe tbody tr th:only-of-type {\n",
       "        vertical-align: middle;\n",
       "    }\n",
       "\n",
       "    .dataframe tbody tr th {\n",
       "        vertical-align: top;\n",
       "    }\n",
       "\n",
       "    .dataframe thead th {\n",
       "        text-align: right;\n",
       "    }\n",
       "</style>\n",
       "<table border=\"1\" class=\"dataframe\">\n",
       "  <thead>\n",
       "    <tr style=\"text-align: right;\">\n",
       "      <th></th>\n",
       "      <th>R square</th>\n",
       "      <th>MSE</th>\n",
       "      <th>MAPE</th>\n",
       "    </tr>\n",
       "  </thead>\n",
       "  <tbody>\n",
       "    <tr>\n",
       "      <th>MANA_ETH, Best Scoring Mins: 500</th>\n",
       "      <td>0.869012</td>\n",
       "      <td>2.562583e-11</td>\n",
       "      <td>0.000588</td>\n",
       "    </tr>\n",
       "    <tr>\n",
       "      <th>Median Pathes</th>\n",
       "      <td>0.868970</td>\n",
       "      <td>2.562555e-11</td>\n",
       "      <td>0.000585</td>\n",
       "    </tr>\n",
       "  </tbody>\n",
       "</table>\n",
       "</div>"
      ],
      "text/plain": [
       "                                  R square           MSE      MAPE\n",
       "MANA_ETH, Best Scoring Mins: 500  0.869012  2.562583e-11  0.000588\n",
       "Median Pathes                     0.868970  2.562555e-11  0.000585"
      ]
     },
     "metadata": {},
     "output_type": "display_data"
    },
    {
     "name": "stdout",
     "output_type": "stream",
     "text": [
      "0.4411764705882353\n",
      "Now Testing: MATIC_BTC\n"
     ]
    },
    {
     "name": "stderr",
     "output_type": "stream",
     "text": [
      "100%|██████████| 11508/11508 [00:00<00:00, 13751.26it/s]\n"
     ]
    },
    {
     "data": {
      "text/html": [
       "<div>\n",
       "<style scoped>\n",
       "    .dataframe tbody tr th:only-of-type {\n",
       "        vertical-align: middle;\n",
       "    }\n",
       "\n",
       "    .dataframe tbody tr th {\n",
       "        vertical-align: top;\n",
       "    }\n",
       "\n",
       "    .dataframe thead th {\n",
       "        text-align: right;\n",
       "    }\n",
       "</style>\n",
       "<table border=\"1\" class=\"dataframe\">\n",
       "  <thead>\n",
       "    <tr style=\"text-align: right;\">\n",
       "      <th></th>\n",
       "      <th>R square</th>\n",
       "      <th>MSE</th>\n",
       "      <th>MAPE</th>\n",
       "    </tr>\n",
       "  </thead>\n",
       "  <tbody>\n",
       "    <tr>\n",
       "      <th>MATIC_BTC, Best Scoring Mins: 500</th>\n",
       "      <td>0.998739</td>\n",
       "      <td>1.076492e-15</td>\n",
       "      <td>0.000711</td>\n",
       "    </tr>\n",
       "    <tr>\n",
       "      <th>Median Pathes</th>\n",
       "      <td>0.998701</td>\n",
       "      <td>1.108302e-15</td>\n",
       "      <td>0.000721</td>\n",
       "    </tr>\n",
       "  </tbody>\n",
       "</table>\n",
       "</div>"
      ],
      "text/plain": [
       "                                   R square           MSE      MAPE\n",
       "MATIC_BTC, Best Scoring Mins: 500  0.998739  1.076492e-15  0.000711\n",
       "Median Pathes                      0.998701  1.108302e-15  0.000721"
      ]
     },
     "metadata": {},
     "output_type": "display_data"
    },
    {
     "name": "stdout",
     "output_type": "stream",
     "text": [
      "0.45588235294117646\n",
      "Now Testing: MKR_BTC\n"
     ]
    },
    {
     "name": "stderr",
     "output_type": "stream",
     "text": [
      "100%|██████████| 11505/11505 [00:00<00:00, 12482.88it/s]\n"
     ]
    },
    {
     "data": {
      "text/html": [
       "<div>\n",
       "<style scoped>\n",
       "    .dataframe tbody tr th:only-of-type {\n",
       "        vertical-align: middle;\n",
       "    }\n",
       "\n",
       "    .dataframe tbody tr th {\n",
       "        vertical-align: top;\n",
       "    }\n",
       "\n",
       "    .dataframe thead th {\n",
       "        text-align: right;\n",
       "    }\n",
       "</style>\n",
       "<table border=\"1\" class=\"dataframe\">\n",
       "  <thead>\n",
       "    <tr style=\"text-align: right;\">\n",
       "      <th></th>\n",
       "      <th>R square</th>\n",
       "      <th>MSE</th>\n",
       "      <th>MAPE</th>\n",
       "    </tr>\n",
       "  </thead>\n",
       "  <tbody>\n",
       "    <tr>\n",
       "      <th>MKR_BTC, Best Scoring Mins: 8000</th>\n",
       "      <td>0.999115</td>\n",
       "      <td>6.636113e-09</td>\n",
       "      <td>0.001425</td>\n",
       "    </tr>\n",
       "    <tr>\n",
       "      <th>Median Pathes</th>\n",
       "      <td>0.999118</td>\n",
       "      <td>6.618097e-09</td>\n",
       "      <td>0.001427</td>\n",
       "    </tr>\n",
       "  </tbody>\n",
       "</table>\n",
       "</div>"
      ],
      "text/plain": [
       "                                  R square           MSE      MAPE\n",
       "MKR_BTC, Best Scoring Mins: 8000  0.999115  6.636113e-09  0.001425\n",
       "Median Pathes                     0.999118  6.618097e-09  0.001427"
      ]
     },
     "metadata": {},
     "output_type": "display_data"
    },
    {
     "name": "stdout",
     "output_type": "stream",
     "text": [
      "0.47058823529411764\n",
      "Now Testing: NEO_BTC\n"
     ]
    },
    {
     "name": "stderr",
     "output_type": "stream",
     "text": [
      "100%|██████████| 11511/11511 [00:00<00:00, 12223.16it/s]\n"
     ]
    },
    {
     "data": {
      "text/html": [
       "<div>\n",
       "<style scoped>\n",
       "    .dataframe tbody tr th:only-of-type {\n",
       "        vertical-align: middle;\n",
       "    }\n",
       "\n",
       "    .dataframe tbody tr th {\n",
       "        vertical-align: top;\n",
       "    }\n",
       "\n",
       "    .dataframe thead th {\n",
       "        text-align: right;\n",
       "    }\n",
       "</style>\n",
       "<table border=\"1\" class=\"dataframe\">\n",
       "  <thead>\n",
       "    <tr style=\"text-align: right;\">\n",
       "      <th></th>\n",
       "      <th>R square</th>\n",
       "      <th>MSE</th>\n",
       "      <th>MAPE</th>\n",
       "    </tr>\n",
       "  </thead>\n",
       "  <tbody>\n",
       "    <tr>\n",
       "      <th>NEO_BTC, Best Scoring Mins: 500</th>\n",
       "      <td>0.998209</td>\n",
       "      <td>2.661893e-13</td>\n",
       "      <td>0.000680</td>\n",
       "    </tr>\n",
       "    <tr>\n",
       "      <th>Median Pathes</th>\n",
       "      <td>0.998205</td>\n",
       "      <td>2.666807e-13</td>\n",
       "      <td>0.000678</td>\n",
       "    </tr>\n",
       "  </tbody>\n",
       "</table>\n",
       "</div>"
      ],
      "text/plain": [
       "                                 R square           MSE      MAPE\n",
       "NEO_BTC, Best Scoring Mins: 500  0.998209  2.661893e-13  0.000680\n",
       "Median Pathes                    0.998205  2.666807e-13  0.000678"
      ]
     },
     "metadata": {},
     "output_type": "display_data"
    },
    {
     "name": "stdout",
     "output_type": "stream",
     "text": [
      "0.4852941176470588\n",
      "Now Testing: OMG_BTC\n"
     ]
    },
    {
     "name": "stderr",
     "output_type": "stream",
     "text": [
      "100%|██████████| 11512/11512 [00:00<00:00, 12267.77it/s]\n"
     ]
    },
    {
     "data": {
      "text/html": [
       "<div>\n",
       "<style scoped>\n",
       "    .dataframe tbody tr th:only-of-type {\n",
       "        vertical-align: middle;\n",
       "    }\n",
       "\n",
       "    .dataframe tbody tr th {\n",
       "        vertical-align: top;\n",
       "    }\n",
       "\n",
       "    .dataframe thead th {\n",
       "        text-align: right;\n",
       "    }\n",
       "</style>\n",
       "<table border=\"1\" class=\"dataframe\">\n",
       "  <thead>\n",
       "    <tr style=\"text-align: right;\">\n",
       "      <th></th>\n",
       "      <th>R square</th>\n",
       "      <th>MSE</th>\n",
       "      <th>MAPE</th>\n",
       "    </tr>\n",
       "  </thead>\n",
       "  <tbody>\n",
       "    <tr>\n",
       "      <th>OMG_BTC, Best Scoring Mins: 8000</th>\n",
       "      <td>0.997681</td>\n",
       "      <td>1.390747e-14</td>\n",
       "      <td>0.001180</td>\n",
       "    </tr>\n",
       "    <tr>\n",
       "      <th>Median Pathes</th>\n",
       "      <td>0.997318</td>\n",
       "      <td>1.609980e-14</td>\n",
       "      <td>0.001281</td>\n",
       "    </tr>\n",
       "  </tbody>\n",
       "</table>\n",
       "</div>"
      ],
      "text/plain": [
       "                                  R square           MSE      MAPE\n",
       "OMG_BTC, Best Scoring Mins: 8000  0.997681  1.390747e-14  0.001180\n",
       "Median Pathes                     0.997318  1.609980e-14  0.001281"
      ]
     },
     "metadata": {},
     "output_type": "display_data"
    },
    {
     "name": "stdout",
     "output_type": "stream",
     "text": [
      "0.5\n",
      "Now Testing: QTUM_BTC\n"
     ]
    },
    {
     "name": "stderr",
     "output_type": "stream",
     "text": [
      "100%|██████████| 11510/11510 [00:00<00:00, 12131.00it/s]\n"
     ]
    },
    {
     "data": {
      "text/html": [
       "<div>\n",
       "<style scoped>\n",
       "    .dataframe tbody tr th:only-of-type {\n",
       "        vertical-align: middle;\n",
       "    }\n",
       "\n",
       "    .dataframe tbody tr th {\n",
       "        vertical-align: top;\n",
       "    }\n",
       "\n",
       "    .dataframe thead th {\n",
       "        text-align: right;\n",
       "    }\n",
       "</style>\n",
       "<table border=\"1\" class=\"dataframe\">\n",
       "  <thead>\n",
       "    <tr style=\"text-align: right;\">\n",
       "      <th></th>\n",
       "      <th>R square</th>\n",
       "      <th>MSE</th>\n",
       "      <th>MAPE</th>\n",
       "    </tr>\n",
       "  </thead>\n",
       "  <tbody>\n",
       "    <tr>\n",
       "      <th>QTUM_BTC, Best Scoring Mins: 1000</th>\n",
       "      <td>0.998518</td>\n",
       "      <td>1.908793e-14</td>\n",
       "      <td>0.000751</td>\n",
       "    </tr>\n",
       "    <tr>\n",
       "      <th>Median Pathes</th>\n",
       "      <td>0.998472</td>\n",
       "      <td>1.964449e-14</td>\n",
       "      <td>0.000762</td>\n",
       "    </tr>\n",
       "  </tbody>\n",
       "</table>\n",
       "</div>"
      ],
      "text/plain": [
       "                                   R square           MSE      MAPE\n",
       "QTUM_BTC, Best Scoring Mins: 1000  0.998518  1.908793e-14  0.000751\n",
       "Median Pathes                      0.998472  1.964449e-14  0.000762"
      ]
     },
     "metadata": {},
     "output_type": "display_data"
    },
    {
     "name": "stdout",
     "output_type": "stream",
     "text": [
      "0.5147058823529411\n",
      "Now Testing: QTUM_ETH\n"
     ]
    },
    {
     "name": "stderr",
     "output_type": "stream",
     "text": [
      "100%|██████████| 11477/11477 [00:00<00:00, 12734.91it/s]\n"
     ]
    },
    {
     "data": {
      "text/html": [
       "<div>\n",
       "<style scoped>\n",
       "    .dataframe tbody tr th:only-of-type {\n",
       "        vertical-align: middle;\n",
       "    }\n",
       "\n",
       "    .dataframe tbody tr th {\n",
       "        vertical-align: top;\n",
       "    }\n",
       "\n",
       "    .dataframe thead th {\n",
       "        text-align: right;\n",
       "    }\n",
       "</style>\n",
       "<table border=\"1\" class=\"dataframe\">\n",
       "  <thead>\n",
       "    <tr style=\"text-align: right;\">\n",
       "      <th></th>\n",
       "      <th>R square</th>\n",
       "      <th>MSE</th>\n",
       "      <th>MAPE</th>\n",
       "    </tr>\n",
       "  </thead>\n",
       "  <tbody>\n",
       "    <tr>\n",
       "      <th>QTUM_ETH, Best Scoring Mins: 8000</th>\n",
       "      <td>0.994076</td>\n",
       "      <td>1.140144e-11</td>\n",
       "      <td>0.001259</td>\n",
       "    </tr>\n",
       "    <tr>\n",
       "      <th>Median Pathes</th>\n",
       "      <td>0.994105</td>\n",
       "      <td>1.134456e-11</td>\n",
       "      <td>0.001254</td>\n",
       "    </tr>\n",
       "  </tbody>\n",
       "</table>\n",
       "</div>"
      ],
      "text/plain": [
       "                                   R square           MSE      MAPE\n",
       "QTUM_ETH, Best Scoring Mins: 8000  0.994076  1.140144e-11  0.001259\n",
       "Median Pathes                      0.994105  1.134456e-11  0.001254"
      ]
     },
     "metadata": {},
     "output_type": "display_data"
    },
    {
     "name": "stdout",
     "output_type": "stream",
     "text": [
      "0.5294117647058824\n",
      "Now Testing: REN_BTC\n"
     ]
    },
    {
     "name": "stderr",
     "output_type": "stream",
     "text": [
      "100%|██████████| 11502/11502 [00:00<00:00, 12845.65it/s]\n"
     ]
    },
    {
     "data": {
      "text/html": [
       "<div>\n",
       "<style scoped>\n",
       "    .dataframe tbody tr th:only-of-type {\n",
       "        vertical-align: middle;\n",
       "    }\n",
       "\n",
       "    .dataframe tbody tr th {\n",
       "        vertical-align: top;\n",
       "    }\n",
       "\n",
       "    .dataframe thead th {\n",
       "        text-align: right;\n",
       "    }\n",
       "</style>\n",
       "<table border=\"1\" class=\"dataframe\">\n",
       "  <thead>\n",
       "    <tr style=\"text-align: right;\">\n",
       "      <th></th>\n",
       "      <th>R square</th>\n",
       "      <th>MSE</th>\n",
       "      <th>MAPE</th>\n",
       "    </tr>\n",
       "  </thead>\n",
       "  <tbody>\n",
       "    <tr>\n",
       "      <th>REN_BTC, Best Scoring Mins: 1000</th>\n",
       "      <td>0.998134</td>\n",
       "      <td>1.481655e-16</td>\n",
       "      <td>0.001661</td>\n",
       "    </tr>\n",
       "    <tr>\n",
       "      <th>Median Pathes</th>\n",
       "      <td>0.997988</td>\n",
       "      <td>1.597896e-16</td>\n",
       "      <td>0.001728</td>\n",
       "    </tr>\n",
       "  </tbody>\n",
       "</table>\n",
       "</div>"
      ],
      "text/plain": [
       "                                  R square           MSE      MAPE\n",
       "REN_BTC, Best Scoring Mins: 1000  0.998134  1.481655e-16  0.001661\n",
       "Median Pathes                     0.997988  1.597896e-16  0.001728"
      ]
     },
     "metadata": {},
     "output_type": "display_data"
    },
    {
     "name": "stdout",
     "output_type": "stream",
     "text": [
      "0.5441176470588235\n",
      "Now Testing: SNT_BTC\n"
     ]
    },
    {
     "name": "stderr",
     "output_type": "stream",
     "text": [
      "100%|██████████| 11506/11506 [00:00<00:00, 12584.94it/s]\n"
     ]
    },
    {
     "data": {
      "text/html": [
       "<div>\n",
       "<style scoped>\n",
       "    .dataframe tbody tr th:only-of-type {\n",
       "        vertical-align: middle;\n",
       "    }\n",
       "\n",
       "    .dataframe tbody tr th {\n",
       "        vertical-align: top;\n",
       "    }\n",
       "\n",
       "    .dataframe thead th {\n",
       "        text-align: right;\n",
       "    }\n",
       "</style>\n",
       "<table border=\"1\" class=\"dataframe\">\n",
       "  <thead>\n",
       "    <tr style=\"text-align: right;\">\n",
       "      <th></th>\n",
       "      <th>R square</th>\n",
       "      <th>MSE</th>\n",
       "      <th>MAPE</th>\n",
       "    </tr>\n",
       "  </thead>\n",
       "  <tbody>\n",
       "    <tr>\n",
       "      <th>SNT_BTC, Best Scoring Mins: 1000</th>\n",
       "      <td>0.997856</td>\n",
       "      <td>1.743332e-17</td>\n",
       "      <td>0.001941</td>\n",
       "    </tr>\n",
       "    <tr>\n",
       "      <th>Median Pathes</th>\n",
       "      <td>0.997845</td>\n",
       "      <td>1.752025e-17</td>\n",
       "      <td>0.001937</td>\n",
       "    </tr>\n",
       "  </tbody>\n",
       "</table>\n",
       "</div>"
      ],
      "text/plain": [
       "                                  R square           MSE      MAPE\n",
       "SNT_BTC, Best Scoring Mins: 1000  0.997856  1.743332e-17  0.001941\n",
       "Median Pathes                     0.997845  1.752025e-17  0.001937"
      ]
     },
     "metadata": {},
     "output_type": "display_data"
    },
    {
     "name": "stdout",
     "output_type": "stream",
     "text": [
      "0.5588235294117647\n",
      "Now Testing: SOL_BTC\n"
     ]
    },
    {
     "name": "stderr",
     "output_type": "stream",
     "text": [
      "100%|██████████| 11509/11509 [00:00<00:00, 12505.13it/s]\n"
     ]
    },
    {
     "data": {
      "text/html": [
       "<div>\n",
       "<style scoped>\n",
       "    .dataframe tbody tr th:only-of-type {\n",
       "        vertical-align: middle;\n",
       "    }\n",
       "\n",
       "    .dataframe tbody tr th {\n",
       "        vertical-align: top;\n",
       "    }\n",
       "\n",
       "    .dataframe thead th {\n",
       "        text-align: right;\n",
       "    }\n",
       "</style>\n",
       "<table border=\"1\" class=\"dataframe\">\n",
       "  <thead>\n",
       "    <tr style=\"text-align: right;\">\n",
       "      <th></th>\n",
       "      <th>R square</th>\n",
       "      <th>MSE</th>\n",
       "      <th>MAPE</th>\n",
       "    </tr>\n",
       "  </thead>\n",
       "  <tbody>\n",
       "    <tr>\n",
       "      <th>SOL_BTC, Best Scoring Mins: 1000</th>\n",
       "      <td>0.999881</td>\n",
       "      <td>2.154787e-13</td>\n",
       "      <td>0.000237</td>\n",
       "    </tr>\n",
       "    <tr>\n",
       "      <th>Median Pathes</th>\n",
       "      <td>0.999880</td>\n",
       "      <td>2.176113e-13</td>\n",
       "      <td>0.000238</td>\n",
       "    </tr>\n",
       "  </tbody>\n",
       "</table>\n",
       "</div>"
      ],
      "text/plain": [
       "                                  R square           MSE      MAPE\n",
       "SOL_BTC, Best Scoring Mins: 1000  0.999881  2.154787e-13  0.000237\n",
       "Median Pathes                     0.999880  2.176113e-13  0.000238"
      ]
     },
     "metadata": {},
     "output_type": "display_data"
    },
    {
     "name": "stdout",
     "output_type": "stream",
     "text": [
      "0.5735294117647058\n",
      "Now Testing: SRM_BTC\n"
     ]
    },
    {
     "name": "stderr",
     "output_type": "stream",
     "text": [
      "100%|██████████| 11505/11505 [00:00<00:00, 12971.71it/s]\n"
     ]
    },
    {
     "data": {
      "text/html": [
       "<div>\n",
       "<style scoped>\n",
       "    .dataframe tbody tr th:only-of-type {\n",
       "        vertical-align: middle;\n",
       "    }\n",
       "\n",
       "    .dataframe tbody tr th {\n",
       "        vertical-align: top;\n",
       "    }\n",
       "\n",
       "    .dataframe thead th {\n",
       "        text-align: right;\n",
       "    }\n",
       "</style>\n",
       "<table border=\"1\" class=\"dataframe\">\n",
       "  <thead>\n",
       "    <tr style=\"text-align: right;\">\n",
       "      <th></th>\n",
       "      <th>R square</th>\n",
       "      <th>MSE</th>\n",
       "      <th>MAPE</th>\n",
       "    </tr>\n",
       "  </thead>\n",
       "  <tbody>\n",
       "    <tr>\n",
       "      <th>SRM_BTC, Best Scoring Mins: 8000</th>\n",
       "      <td>0.998011</td>\n",
       "      <td>1.881227e-15</td>\n",
       "      <td>0.000895</td>\n",
       "    </tr>\n",
       "    <tr>\n",
       "      <th>Median Pathes</th>\n",
       "      <td>0.998016</td>\n",
       "      <td>1.876130e-15</td>\n",
       "      <td>0.000894</td>\n",
       "    </tr>\n",
       "  </tbody>\n",
       "</table>\n",
       "</div>"
      ],
      "text/plain": [
       "                                  R square           MSE      MAPE\n",
       "SRM_BTC, Best Scoring Mins: 8000  0.998011  1.881227e-15  0.000895\n",
       "Median Pathes                     0.998016  1.876130e-15  0.000894"
      ]
     },
     "metadata": {},
     "output_type": "display_data"
    },
    {
     "name": "stdout",
     "output_type": "stream",
     "text": [
      "0.5882352941176471\n",
      "Now Testing: SUSHI_BTC\n"
     ]
    },
    {
     "name": "stderr",
     "output_type": "stream",
     "text": [
      "100%|██████████| 11507/11507 [00:00<00:00, 13441.62it/s]\n"
     ]
    },
    {
     "data": {
      "text/html": [
       "<div>\n",
       "<style scoped>\n",
       "    .dataframe tbody tr th:only-of-type {\n",
       "        vertical-align: middle;\n",
       "    }\n",
       "\n",
       "    .dataframe tbody tr th {\n",
       "        vertical-align: top;\n",
       "    }\n",
       "\n",
       "    .dataframe thead th {\n",
       "        text-align: right;\n",
       "    }\n",
       "</style>\n",
       "<table border=\"1\" class=\"dataframe\">\n",
       "  <thead>\n",
       "    <tr style=\"text-align: right;\">\n",
       "      <th></th>\n",
       "      <th>R square</th>\n",
       "      <th>MSE</th>\n",
       "      <th>MAPE</th>\n",
       "    </tr>\n",
       "  </thead>\n",
       "  <tbody>\n",
       "    <tr>\n",
       "      <th>SUSHI_BTC, Best Scoring Mins: 8000</th>\n",
       "      <td>0.998382</td>\n",
       "      <td>1.828500e-14</td>\n",
       "      <td>0.001669</td>\n",
       "    </tr>\n",
       "    <tr>\n",
       "      <th>Median Pathes</th>\n",
       "      <td>0.998098</td>\n",
       "      <td>2.143611e-14</td>\n",
       "      <td>0.001901</td>\n",
       "    </tr>\n",
       "  </tbody>\n",
       "</table>\n",
       "</div>"
      ],
      "text/plain": [
       "                                    R square           MSE      MAPE\n",
       "SUSHI_BTC, Best Scoring Mins: 8000  0.998382  1.828500e-14  0.001669\n",
       "Median Pathes                       0.998098  2.143611e-14  0.001901"
      ]
     },
     "metadata": {},
     "output_type": "display_data"
    },
    {
     "name": "stdout",
     "output_type": "stream",
     "text": [
      "0.6029411764705882\n",
      "Now Testing: TRX_BTC\n"
     ]
    },
    {
     "name": "stderr",
     "output_type": "stream",
     "text": [
      "100%|██████████| 11512/11512 [00:00<00:00, 12191.94it/s]\n"
     ]
    },
    {
     "data": {
      "text/html": [
       "<div>\n",
       "<style scoped>\n",
       "    .dataframe tbody tr th:only-of-type {\n",
       "        vertical-align: middle;\n",
       "    }\n",
       "\n",
       "    .dataframe tbody tr th {\n",
       "        vertical-align: top;\n",
       "    }\n",
       "\n",
       "    .dataframe thead th {\n",
       "        text-align: right;\n",
       "    }\n",
       "</style>\n",
       "<table border=\"1\" class=\"dataframe\">\n",
       "  <thead>\n",
       "    <tr style=\"text-align: right;\">\n",
       "      <th></th>\n",
       "      <th>R square</th>\n",
       "      <th>MSE</th>\n",
       "      <th>MAPE</th>\n",
       "    </tr>\n",
       "  </thead>\n",
       "  <tbody>\n",
       "    <tr>\n",
       "      <th>TRX_BTC, Best Scoring Mins: 1000</th>\n",
       "      <td>0.994610</td>\n",
       "      <td>1.420146e-17</td>\n",
       "      <td>0.000950</td>\n",
       "    </tr>\n",
       "    <tr>\n",
       "      <th>Median Pathes</th>\n",
       "      <td>0.994805</td>\n",
       "      <td>1.370613e-17</td>\n",
       "      <td>0.000935</td>\n",
       "    </tr>\n",
       "  </tbody>\n",
       "</table>\n",
       "</div>"
      ],
      "text/plain": [
       "                                  R square           MSE      MAPE\n",
       "TRX_BTC, Best Scoring Mins: 1000  0.994610  1.420146e-17  0.000950\n",
       "Median Pathes                     0.994805  1.370613e-17  0.000935"
      ]
     },
     "metadata": {},
     "output_type": "display_data"
    },
    {
     "name": "stdout",
     "output_type": "stream",
     "text": [
      "0.6029411764705882\n",
      "Now Testing: TRX_ETH\n"
     ]
    },
    {
     "name": "stderr",
     "output_type": "stream",
     "text": [
      "100%|██████████| 11511/11511 [00:00<00:00, 12291.54it/s]\n"
     ]
    },
    {
     "data": {
      "text/html": [
       "<div>\n",
       "<style scoped>\n",
       "    .dataframe tbody tr th:only-of-type {\n",
       "        vertical-align: middle;\n",
       "    }\n",
       "\n",
       "    .dataframe tbody tr th {\n",
       "        vertical-align: top;\n",
       "    }\n",
       "\n",
       "    .dataframe thead th {\n",
       "        text-align: right;\n",
       "    }\n",
       "</style>\n",
       "<table border=\"1\" class=\"dataframe\">\n",
       "  <thead>\n",
       "    <tr style=\"text-align: right;\">\n",
       "      <th></th>\n",
       "      <th>R square</th>\n",
       "      <th>MSE</th>\n",
       "      <th>MAPE</th>\n",
       "    </tr>\n",
       "  </thead>\n",
       "  <tbody>\n",
       "    <tr>\n",
       "      <th>TRX_ETH, Best Scoring Mins: 1000</th>\n",
       "      <td>0.999344</td>\n",
       "      <td>3.919946e-16</td>\n",
       "      <td>0.000346</td>\n",
       "    </tr>\n",
       "    <tr>\n",
       "      <th>Median Pathes</th>\n",
       "      <td>0.999345</td>\n",
       "      <td>3.912996e-16</td>\n",
       "      <td>0.000348</td>\n",
       "    </tr>\n",
       "  </tbody>\n",
       "</table>\n",
       "</div>"
      ],
      "text/plain": [
       "                                  R square           MSE      MAPE\n",
       "TRX_ETH, Best Scoring Mins: 1000  0.999344  3.919946e-16  0.000346\n",
       "Median Pathes                     0.999345  3.912996e-16  0.000348"
      ]
     },
     "metadata": {},
     "output_type": "display_data"
    },
    {
     "name": "stdout",
     "output_type": "stream",
     "text": [
      "0.6176470588235294\n",
      "Now Testing: UNI_BTC\n"
     ]
    },
    {
     "name": "stderr",
     "output_type": "stream",
     "text": [
      "100%|██████████| 11507/11507 [00:00<00:00, 12473.54it/s]\n"
     ]
    },
    {
     "data": {
      "text/html": [
       "<div>\n",
       "<style scoped>\n",
       "    .dataframe tbody tr th:only-of-type {\n",
       "        vertical-align: middle;\n",
       "    }\n",
       "\n",
       "    .dataframe tbody tr th {\n",
       "        vertical-align: top;\n",
       "    }\n",
       "\n",
       "    .dataframe thead th {\n",
       "        text-align: right;\n",
       "    }\n",
       "</style>\n",
       "<table border=\"1\" class=\"dataframe\">\n",
       "  <thead>\n",
       "    <tr style=\"text-align: right;\">\n",
       "      <th></th>\n",
       "      <th>R square</th>\n",
       "      <th>MSE</th>\n",
       "      <th>MAPE</th>\n",
       "    </tr>\n",
       "  </thead>\n",
       "  <tbody>\n",
       "    <tr>\n",
       "      <th>UNI_BTC, Best Scoring Mins: 500</th>\n",
       "      <td>0.999685</td>\n",
       "      <td>5.581938e-14</td>\n",
       "      <td>0.000618</td>\n",
       "    </tr>\n",
       "    <tr>\n",
       "      <th>Median Pathes</th>\n",
       "      <td>0.999672</td>\n",
       "      <td>5.798829e-14</td>\n",
       "      <td>0.000633</td>\n",
       "    </tr>\n",
       "  </tbody>\n",
       "</table>\n",
       "</div>"
      ],
      "text/plain": [
       "                                 R square           MSE      MAPE\n",
       "UNI_BTC, Best Scoring Mins: 500  0.999685  5.581938e-14  0.000618\n",
       "Median Pathes                    0.999672  5.798829e-14  0.000633"
      ]
     },
     "metadata": {},
     "output_type": "display_data"
    },
    {
     "name": "stdout",
     "output_type": "stream",
     "text": [
      "0.6323529411764706\n",
      "Now Testing: UNI_ETH\n"
     ]
    },
    {
     "name": "stderr",
     "output_type": "stream",
     "text": [
      "100%|██████████| 11507/11507 [00:00<00:00, 12908.97it/s]\n"
     ]
    },
    {
     "data": {
      "text/html": [
       "<div>\n",
       "<style scoped>\n",
       "    .dataframe tbody tr th:only-of-type {\n",
       "        vertical-align: middle;\n",
       "    }\n",
       "\n",
       "    .dataframe tbody tr th {\n",
       "        vertical-align: top;\n",
       "    }\n",
       "\n",
       "    .dataframe thead th {\n",
       "        text-align: right;\n",
       "    }\n",
       "</style>\n",
       "<table border=\"1\" class=\"dataframe\">\n",
       "  <thead>\n",
       "    <tr style=\"text-align: right;\">\n",
       "      <th></th>\n",
       "      <th>R square</th>\n",
       "      <th>MSE</th>\n",
       "      <th>MAPE</th>\n",
       "    </tr>\n",
       "  </thead>\n",
       "  <tbody>\n",
       "    <tr>\n",
       "      <th>UNI_ETH, Best Scoring Mins: 5000</th>\n",
       "      <td>0.999553</td>\n",
       "      <td>1.401924e-11</td>\n",
       "      <td>0.000551</td>\n",
       "    </tr>\n",
       "    <tr>\n",
       "      <th>Median Pathes</th>\n",
       "      <td>0.999561</td>\n",
       "      <td>1.378558e-11</td>\n",
       "      <td>0.000546</td>\n",
       "    </tr>\n",
       "  </tbody>\n",
       "</table>\n",
       "</div>"
      ],
      "text/plain": [
       "                                  R square           MSE      MAPE\n",
       "UNI_ETH, Best Scoring Mins: 5000  0.999553  1.401924e-11  0.000551\n",
       "Median Pathes                     0.999561  1.378558e-11  0.000546"
      ]
     },
     "metadata": {},
     "output_type": "display_data"
    },
    {
     "name": "stdout",
     "output_type": "stream",
     "text": [
      "0.6470588235294118\n",
      "Now Testing: WAVES_BTC\n"
     ]
    },
    {
     "name": "stderr",
     "output_type": "stream",
     "text": [
      "100%|██████████| 11508/11508 [00:00<00:00, 12544.68it/s]\n"
     ]
    },
    {
     "data": {
      "text/html": [
       "<div>\n",
       "<style scoped>\n",
       "    .dataframe tbody tr th:only-of-type {\n",
       "        vertical-align: middle;\n",
       "    }\n",
       "\n",
       "    .dataframe tbody tr th {\n",
       "        vertical-align: top;\n",
       "    }\n",
       "\n",
       "    .dataframe thead th {\n",
       "        text-align: right;\n",
       "    }\n",
       "</style>\n",
       "<table border=\"1\" class=\"dataframe\">\n",
       "  <thead>\n",
       "    <tr style=\"text-align: right;\">\n",
       "      <th></th>\n",
       "      <th>R square</th>\n",
       "      <th>MSE</th>\n",
       "      <th>MAPE</th>\n",
       "    </tr>\n",
       "  </thead>\n",
       "  <tbody>\n",
       "    <tr>\n",
       "      <th>WAVES_BTC, Best Scoring Mins: 1000</th>\n",
       "      <td>0.997019</td>\n",
       "      <td>1.793802e-13</td>\n",
       "      <td>0.001993</td>\n",
       "    </tr>\n",
       "    <tr>\n",
       "      <th>Median Pathes</th>\n",
       "      <td>0.997136</td>\n",
       "      <td>1.719973e-13</td>\n",
       "      <td>0.001929</td>\n",
       "    </tr>\n",
       "  </tbody>\n",
       "</table>\n",
       "</div>"
      ],
      "text/plain": [
       "                                    R square           MSE      MAPE\n",
       "WAVES_BTC, Best Scoring Mins: 1000  0.997019  1.793802e-13  0.001993\n",
       "Median Pathes                       0.997136  1.719973e-13  0.001929"
      ]
     },
     "metadata": {},
     "output_type": "display_data"
    },
    {
     "name": "stdout",
     "output_type": "stream",
     "text": [
      "0.6470588235294118\n",
      "Now Testing: WBTC_BTC\n"
     ]
    },
    {
     "name": "stderr",
     "output_type": "stream",
     "text": [
      "100%|██████████| 11503/11503 [00:00<00:00, 12546.18it/s]\n"
     ]
    },
    {
     "data": {
      "text/html": [
       "<div>\n",
       "<style scoped>\n",
       "    .dataframe tbody tr th:only-of-type {\n",
       "        vertical-align: middle;\n",
       "    }\n",
       "\n",
       "    .dataframe tbody tr th {\n",
       "        vertical-align: top;\n",
       "    }\n",
       "\n",
       "    .dataframe thead th {\n",
       "        text-align: right;\n",
       "    }\n",
       "</style>\n",
       "<table border=\"1\" class=\"dataframe\">\n",
       "  <thead>\n",
       "    <tr style=\"text-align: right;\">\n",
       "      <th></th>\n",
       "      <th>R square</th>\n",
       "      <th>MSE</th>\n",
       "      <th>MAPE</th>\n",
       "    </tr>\n",
       "  </thead>\n",
       "  <tbody>\n",
       "    <tr>\n",
       "      <th>WBTC_BTC, Best Scoring Mins: 1000</th>\n",
       "      <td>-0.285336</td>\n",
       "      <td>2.793996e-06</td>\n",
       "      <td>0.000770</td>\n",
       "    </tr>\n",
       "    <tr>\n",
       "      <th>Median Pathes</th>\n",
       "      <td>-1.942901</td>\n",
       "      <td>7.924830e-07</td>\n",
       "      <td>0.000702</td>\n",
       "    </tr>\n",
       "  </tbody>\n",
       "</table>\n",
       "</div>"
      ],
      "text/plain": [
       "                                   R square           MSE      MAPE\n",
       "WBTC_BTC, Best Scoring Mins: 1000 -0.285336  2.793996e-06  0.000770\n",
       "Median Pathes                     -1.942901  7.924830e-07  0.000702"
      ]
     },
     "metadata": {},
     "output_type": "display_data"
    },
    {
     "name": "stdout",
     "output_type": "stream",
     "text": [
      "0.6617647058823529\n",
      "Now Testing: XEM_BTC\n"
     ]
    },
    {
     "name": "stderr",
     "output_type": "stream",
     "text": [
      "100%|██████████| 11506/11506 [00:00<00:00, 11876.33it/s]\n"
     ]
    },
    {
     "data": {
      "text/html": [
       "<div>\n",
       "<style scoped>\n",
       "    .dataframe tbody tr th:only-of-type {\n",
       "        vertical-align: middle;\n",
       "    }\n",
       "\n",
       "    .dataframe tbody tr th {\n",
       "        vertical-align: top;\n",
       "    }\n",
       "\n",
       "    .dataframe thead th {\n",
       "        text-align: right;\n",
       "    }\n",
       "</style>\n",
       "<table border=\"1\" class=\"dataframe\">\n",
       "  <thead>\n",
       "    <tr style=\"text-align: right;\">\n",
       "      <th></th>\n",
       "      <th>R square</th>\n",
       "      <th>MSE</th>\n",
       "      <th>MAPE</th>\n",
       "    </tr>\n",
       "  </thead>\n",
       "  <tbody>\n",
       "    <tr>\n",
       "      <th>XEM_BTC, Best Scoring Mins: 1000</th>\n",
       "      <td>0.989884</td>\n",
       "      <td>2.657846e-17</td>\n",
       "      <td>0.001468</td>\n",
       "    </tr>\n",
       "    <tr>\n",
       "      <th>Median Pathes</th>\n",
       "      <td>0.989826</td>\n",
       "      <td>2.672945e-17</td>\n",
       "      <td>0.001498</td>\n",
       "    </tr>\n",
       "  </tbody>\n",
       "</table>\n",
       "</div>"
      ],
      "text/plain": [
       "                                  R square           MSE      MAPE\n",
       "XEM_BTC, Best Scoring Mins: 1000  0.989884  2.657846e-17  0.001468\n",
       "Median Pathes                     0.989826  2.672945e-17  0.001498"
      ]
     },
     "metadata": {},
     "output_type": "display_data"
    },
    {
     "name": "stdout",
     "output_type": "stream",
     "text": [
      "0.6764705882352942\n",
      "Now Testing: XLM_BTC\n"
     ]
    },
    {
     "name": "stderr",
     "output_type": "stream",
     "text": [
      "100%|██████████| 11511/11511 [00:00<00:00, 12364.78it/s]\n"
     ]
    },
    {
     "data": {
      "text/html": [
       "<div>\n",
       "<style scoped>\n",
       "    .dataframe tbody tr th:only-of-type {\n",
       "        vertical-align: middle;\n",
       "    }\n",
       "\n",
       "    .dataframe tbody tr th {\n",
       "        vertical-align: top;\n",
       "    }\n",
       "\n",
       "    .dataframe thead th {\n",
       "        text-align: right;\n",
       "    }\n",
       "</style>\n",
       "<table border=\"1\" class=\"dataframe\">\n",
       "  <thead>\n",
       "    <tr style=\"text-align: right;\">\n",
       "      <th></th>\n",
       "      <th>R square</th>\n",
       "      <th>MSE</th>\n",
       "      <th>MAPE</th>\n",
       "    </tr>\n",
       "  </thead>\n",
       "  <tbody>\n",
       "    <tr>\n",
       "      <th>XLM_BTC, Best Scoring Mins: 1000</th>\n",
       "      <td>0.999551</td>\n",
       "      <td>3.295194e-17</td>\n",
       "      <td>0.000601</td>\n",
       "    </tr>\n",
       "    <tr>\n",
       "      <th>Median Pathes</th>\n",
       "      <td>0.999531</td>\n",
       "      <td>3.439480e-17</td>\n",
       "      <td>0.000644</td>\n",
       "    </tr>\n",
       "  </tbody>\n",
       "</table>\n",
       "</div>"
      ],
      "text/plain": [
       "                                  R square           MSE      MAPE\n",
       "XLM_BTC, Best Scoring Mins: 1000  0.999551  3.295194e-17  0.000601\n",
       "Median Pathes                     0.999531  3.439480e-17  0.000644"
      ]
     },
     "metadata": {},
     "output_type": "display_data"
    },
    {
     "name": "stdout",
     "output_type": "stream",
     "text": [
      "0.6911764705882353\n",
      "Now Testing: XLM_ETH\n"
     ]
    },
    {
     "name": "stderr",
     "output_type": "stream",
     "text": [
      "100%|██████████| 11510/11510 [00:00<00:00, 13179.26it/s]\n"
     ]
    },
    {
     "data": {
      "text/html": [
       "<div>\n",
       "<style scoped>\n",
       "    .dataframe tbody tr th:only-of-type {\n",
       "        vertical-align: middle;\n",
       "    }\n",
       "\n",
       "    .dataframe tbody tr th {\n",
       "        vertical-align: top;\n",
       "    }\n",
       "\n",
       "    .dataframe thead th {\n",
       "        text-align: right;\n",
       "    }\n",
       "</style>\n",
       "<table border=\"1\" class=\"dataframe\">\n",
       "  <thead>\n",
       "    <tr style=\"text-align: right;\">\n",
       "      <th></th>\n",
       "      <th>R square</th>\n",
       "      <th>MSE</th>\n",
       "      <th>MAPE</th>\n",
       "    </tr>\n",
       "  </thead>\n",
       "  <tbody>\n",
       "    <tr>\n",
       "      <th>XLM_ETH, Best Scoring Mins: 8000</th>\n",
       "      <td>0.999605</td>\n",
       "      <td>5.474839e-15</td>\n",
       "      <td>0.000589</td>\n",
       "    </tr>\n",
       "    <tr>\n",
       "      <th>Median Pathes</th>\n",
       "      <td>0.999604</td>\n",
       "      <td>5.498610e-15</td>\n",
       "      <td>0.000588</td>\n",
       "    </tr>\n",
       "  </tbody>\n",
       "</table>\n",
       "</div>"
      ],
      "text/plain": [
       "                                  R square           MSE      MAPE\n",
       "XLM_ETH, Best Scoring Mins: 8000  0.999605  5.474839e-15  0.000589\n",
       "Median Pathes                     0.999604  5.498610e-15  0.000588"
      ]
     },
     "metadata": {},
     "output_type": "display_data"
    },
    {
     "name": "stdout",
     "output_type": "stream",
     "text": [
      "0.7058823529411765\n",
      "Now Testing: XRP_BTC\n"
     ]
    },
    {
     "name": "stderr",
     "output_type": "stream",
     "text": [
      "100%|██████████| 11512/11512 [00:01<00:00, 11393.38it/s]\n"
     ]
    },
    {
     "data": {
      "text/html": [
       "<div>\n",
       "<style scoped>\n",
       "    .dataframe tbody tr th:only-of-type {\n",
       "        vertical-align: middle;\n",
       "    }\n",
       "\n",
       "    .dataframe tbody tr th {\n",
       "        vertical-align: top;\n",
       "    }\n",
       "\n",
       "    .dataframe thead th {\n",
       "        text-align: right;\n",
       "    }\n",
       "</style>\n",
       "<table border=\"1\" class=\"dataframe\">\n",
       "  <thead>\n",
       "    <tr style=\"text-align: right;\">\n",
       "      <th></th>\n",
       "      <th>R square</th>\n",
       "      <th>MSE</th>\n",
       "      <th>MAPE</th>\n",
       "    </tr>\n",
       "  </thead>\n",
       "  <tbody>\n",
       "    <tr>\n",
       "      <th>XRP_BTC, Best Scoring Mins: 500</th>\n",
       "      <td>0.999895</td>\n",
       "      <td>8.291170e-17</td>\n",
       "      <td>0.000277</td>\n",
       "    </tr>\n",
       "    <tr>\n",
       "      <th>Median Pathes</th>\n",
       "      <td>0.999894</td>\n",
       "      <td>8.358439e-17</td>\n",
       "      <td>0.000279</td>\n",
       "    </tr>\n",
       "  </tbody>\n",
       "</table>\n",
       "</div>"
      ],
      "text/plain": [
       "                                 R square           MSE      MAPE\n",
       "XRP_BTC, Best Scoring Mins: 500  0.999895  8.291170e-17  0.000277\n",
       "Median Pathes                    0.999894  8.358439e-17  0.000279"
      ]
     },
     "metadata": {},
     "output_type": "display_data"
    },
    {
     "name": "stdout",
     "output_type": "stream",
     "text": [
      "0.7205882352941176\n",
      "Now Testing: XRP_ETH\n"
     ]
    },
    {
     "name": "stderr",
     "output_type": "stream",
     "text": [
      "100%|██████████| 11512/11512 [00:00<00:00, 13004.34it/s]\n"
     ]
    },
    {
     "data": {
      "text/html": [
       "<div>\n",
       "<style scoped>\n",
       "    .dataframe tbody tr th:only-of-type {\n",
       "        vertical-align: middle;\n",
       "    }\n",
       "\n",
       "    .dataframe tbody tr th {\n",
       "        vertical-align: top;\n",
       "    }\n",
       "\n",
       "    .dataframe thead th {\n",
       "        text-align: right;\n",
       "    }\n",
       "</style>\n",
       "<table border=\"1\" class=\"dataframe\">\n",
       "  <thead>\n",
       "    <tr style=\"text-align: right;\">\n",
       "      <th></th>\n",
       "      <th>R square</th>\n",
       "      <th>MSE</th>\n",
       "      <th>MAPE</th>\n",
       "    </tr>\n",
       "  </thead>\n",
       "  <tbody>\n",
       "    <tr>\n",
       "      <th>XRP_ETH, Best Scoring Mins: 500</th>\n",
       "      <td>0.997023</td>\n",
       "      <td>4.259948e-13</td>\n",
       "      <td>0.001305</td>\n",
       "    </tr>\n",
       "    <tr>\n",
       "      <th>Median Pathes</th>\n",
       "      <td>0.987508</td>\n",
       "      <td>1.792708e-12</td>\n",
       "      <td>0.001743</td>\n",
       "    </tr>\n",
       "  </tbody>\n",
       "</table>\n",
       "</div>"
      ],
      "text/plain": [
       "                                 R square           MSE      MAPE\n",
       "XRP_ETH, Best Scoring Mins: 500  0.997023  4.259948e-13  0.001305\n",
       "Median Pathes                    0.987508  1.792708e-12  0.001743"
      ]
     },
     "metadata": {},
     "output_type": "display_data"
    },
    {
     "name": "stdout",
     "output_type": "stream",
     "text": [
      "0.7352941176470589\n",
      "Now Testing: XTZ_BTC\n"
     ]
    },
    {
     "name": "stderr",
     "output_type": "stream",
     "text": [
      "100%|██████████| 11507/11507 [00:00<00:00, 12202.47it/s]\n"
     ]
    },
    {
     "data": {
      "text/html": [
       "<div>\n",
       "<style scoped>\n",
       "    .dataframe tbody tr th:only-of-type {\n",
       "        vertical-align: middle;\n",
       "    }\n",
       "\n",
       "    .dataframe tbody tr th {\n",
       "        vertical-align: top;\n",
       "    }\n",
       "\n",
       "    .dataframe thead th {\n",
       "        text-align: right;\n",
       "    }\n",
       "</style>\n",
       "<table border=\"1\" class=\"dataframe\">\n",
       "  <thead>\n",
       "    <tr style=\"text-align: right;\">\n",
       "      <th></th>\n",
       "      <th>R square</th>\n",
       "      <th>MSE</th>\n",
       "      <th>MAPE</th>\n",
       "    </tr>\n",
       "  </thead>\n",
       "  <tbody>\n",
       "    <tr>\n",
       "      <th>XTZ_BTC, Best Scoring Mins: 8000</th>\n",
       "      <td>0.995713</td>\n",
       "      <td>5.312692e-15</td>\n",
       "      <td>0.000947</td>\n",
       "    </tr>\n",
       "    <tr>\n",
       "      <th>Median Pathes</th>\n",
       "      <td>0.995731</td>\n",
       "      <td>5.290475e-15</td>\n",
       "      <td>0.000943</td>\n",
       "    </tr>\n",
       "  </tbody>\n",
       "</table>\n",
       "</div>"
      ],
      "text/plain": [
       "                                  R square           MSE      MAPE\n",
       "XTZ_BTC, Best Scoring Mins: 8000  0.995713  5.312692e-15  0.000947\n",
       "Median Pathes                     0.995731  5.290475e-15  0.000943"
      ]
     },
     "metadata": {},
     "output_type": "display_data"
    },
    {
     "name": "stdout",
     "output_type": "stream",
     "text": [
      "0.75\n",
      "Now Testing: XTZ_ETH\n"
     ]
    },
    {
     "name": "stderr",
     "output_type": "stream",
     "text": [
      "100%|██████████| 11462/11462 [00:00<00:00, 12478.41it/s]\n"
     ]
    },
    {
     "data": {
      "text/html": [
       "<div>\n",
       "<style scoped>\n",
       "    .dataframe tbody tr th:only-of-type {\n",
       "        vertical-align: middle;\n",
       "    }\n",
       "\n",
       "    .dataframe tbody tr th {\n",
       "        vertical-align: top;\n",
       "    }\n",
       "\n",
       "    .dataframe thead th {\n",
       "        text-align: right;\n",
       "    }\n",
       "</style>\n",
       "<table border=\"1\" class=\"dataframe\">\n",
       "  <thead>\n",
       "    <tr style=\"text-align: right;\">\n",
       "      <th></th>\n",
       "      <th>R square</th>\n",
       "      <th>MSE</th>\n",
       "      <th>MAPE</th>\n",
       "    </tr>\n",
       "  </thead>\n",
       "  <tbody>\n",
       "    <tr>\n",
       "      <th>XTZ_ETH, Best Scoring Mins: 500</th>\n",
       "      <td>0.993848</td>\n",
       "      <td>1.426548e-12</td>\n",
       "      <td>0.000754</td>\n",
       "    </tr>\n",
       "    <tr>\n",
       "      <th>Median Pathes</th>\n",
       "      <td>0.993678</td>\n",
       "      <td>1.467554e-12</td>\n",
       "      <td>0.000779</td>\n",
       "    </tr>\n",
       "  </tbody>\n",
       "</table>\n",
       "</div>"
      ],
      "text/plain": [
       "                                 R square           MSE      MAPE\n",
       "XTZ_ETH, Best Scoring Mins: 500  0.993848  1.426548e-12  0.000754\n",
       "Median Pathes                    0.993678  1.467554e-12  0.000779"
      ]
     },
     "metadata": {},
     "output_type": "display_data"
    },
    {
     "name": "stdout",
     "output_type": "stream",
     "text": [
      "0.7647058823529411\n",
      "Now Testing: YFI_BTC\n"
     ]
    },
    {
     "name": "stderr",
     "output_type": "stream",
     "text": [
      "100%|██████████| 11506/11506 [00:00<00:00, 12580.75it/s]\n"
     ]
    },
    {
     "data": {
      "text/html": [
       "<div>\n",
       "<style scoped>\n",
       "    .dataframe tbody tr th:only-of-type {\n",
       "        vertical-align: middle;\n",
       "    }\n",
       "\n",
       "    .dataframe tbody tr th {\n",
       "        vertical-align: top;\n",
       "    }\n",
       "\n",
       "    .dataframe thead th {\n",
       "        text-align: right;\n",
       "    }\n",
       "</style>\n",
       "<table border=\"1\" class=\"dataframe\">\n",
       "  <thead>\n",
       "    <tr style=\"text-align: right;\">\n",
       "      <th></th>\n",
       "      <th>R square</th>\n",
       "      <th>MSE</th>\n",
       "      <th>MAPE</th>\n",
       "    </tr>\n",
       "  </thead>\n",
       "  <tbody>\n",
       "    <tr>\n",
       "      <th>YFI_BTC, Best Scoring Mins: 1000</th>\n",
       "      <td>0.985969</td>\n",
       "      <td>5.611468e-07</td>\n",
       "      <td>0.001608</td>\n",
       "    </tr>\n",
       "    <tr>\n",
       "      <th>Median Pathes</th>\n",
       "      <td>0.985948</td>\n",
       "      <td>5.618538e-07</td>\n",
       "      <td>0.001609</td>\n",
       "    </tr>\n",
       "  </tbody>\n",
       "</table>\n",
       "</div>"
      ],
      "text/plain": [
       "                                  R square           MSE      MAPE\n",
       "YFI_BTC, Best Scoring Mins: 1000  0.985969  5.611468e-07  0.001608\n",
       "Median Pathes                     0.985948  5.618538e-07  0.001609"
      ]
     },
     "metadata": {},
     "output_type": "display_data"
    },
    {
     "name": "stdout",
     "output_type": "stream",
     "text": [
      "0.7794117647058824\n",
      "Now Testing: ZEC_BTC\n"
     ]
    },
    {
     "name": "stderr",
     "output_type": "stream",
     "text": [
      "100%|██████████| 11512/11512 [00:00<00:00, 13320.14it/s]\n"
     ]
    },
    {
     "data": {
      "text/html": [
       "<div>\n",
       "<style scoped>\n",
       "    .dataframe tbody tr th:only-of-type {\n",
       "        vertical-align: middle;\n",
       "    }\n",
       "\n",
       "    .dataframe tbody tr th {\n",
       "        vertical-align: top;\n",
       "    }\n",
       "\n",
       "    .dataframe thead th {\n",
       "        text-align: right;\n",
       "    }\n",
       "</style>\n",
       "<table border=\"1\" class=\"dataframe\">\n",
       "  <thead>\n",
       "    <tr style=\"text-align: right;\">\n",
       "      <th></th>\n",
       "      <th>R square</th>\n",
       "      <th>MSE</th>\n",
       "      <th>MAPE</th>\n",
       "    </tr>\n",
       "  </thead>\n",
       "  <tbody>\n",
       "    <tr>\n",
       "      <th>ZEC_BTC, Best Scoring Mins: 5000</th>\n",
       "      <td>0.995626</td>\n",
       "      <td>2.481199e-11</td>\n",
       "      <td>0.001424</td>\n",
       "    </tr>\n",
       "    <tr>\n",
       "      <th>Median Pathes</th>\n",
       "      <td>0.994934</td>\n",
       "      <td>2.869294e-11</td>\n",
       "      <td>0.001598</td>\n",
       "    </tr>\n",
       "  </tbody>\n",
       "</table>\n",
       "</div>"
      ],
      "text/plain": [
       "                                  R square           MSE      MAPE\n",
       "ZEC_BTC, Best Scoring Mins: 5000  0.995626  2.481199e-11  0.001424\n",
       "Median Pathes                     0.994934  2.869294e-11  0.001598"
      ]
     },
     "metadata": {},
     "output_type": "display_data"
    },
    {
     "name": "stdout",
     "output_type": "stream",
     "text": [
      "0.7941176470588235\n",
      "Now Testing: ZIL_BTC\n"
     ]
    },
    {
     "name": "stderr",
     "output_type": "stream",
     "text": [
      "100%|██████████| 11506/11506 [00:00<00:00, 12441.81it/s]\n"
     ]
    },
    {
     "data": {
      "text/html": [
       "<div>\n",
       "<style scoped>\n",
       "    .dataframe tbody tr th:only-of-type {\n",
       "        vertical-align: middle;\n",
       "    }\n",
       "\n",
       "    .dataframe tbody tr th {\n",
       "        vertical-align: top;\n",
       "    }\n",
       "\n",
       "    .dataframe thead th {\n",
       "        text-align: right;\n",
       "    }\n",
       "</style>\n",
       "<table border=\"1\" class=\"dataframe\">\n",
       "  <thead>\n",
       "    <tr style=\"text-align: right;\">\n",
       "      <th></th>\n",
       "      <th>R square</th>\n",
       "      <th>MSE</th>\n",
       "      <th>MAPE</th>\n",
       "    </tr>\n",
       "  </thead>\n",
       "  <tbody>\n",
       "    <tr>\n",
       "      <th>ZIL_BTC, Best Scoring Mins: 1000</th>\n",
       "      <td>0.986342</td>\n",
       "      <td>1.727201e-17</td>\n",
       "      <td>0.002085</td>\n",
       "    </tr>\n",
       "    <tr>\n",
       "      <th>Median Pathes</th>\n",
       "      <td>0.986447</td>\n",
       "      <td>1.713628e-17</td>\n",
       "      <td>0.002072</td>\n",
       "    </tr>\n",
       "  </tbody>\n",
       "</table>\n",
       "</div>"
      ],
      "text/plain": [
       "                                  R square           MSE      MAPE\n",
       "ZIL_BTC, Best Scoring Mins: 1000  0.986342  1.727201e-17  0.002085\n",
       "Median Pathes                     0.986447  1.713628e-17  0.002072"
      ]
     },
     "metadata": {},
     "output_type": "display_data"
    },
    {
     "name": "stdout",
     "output_type": "stream",
     "text": [
      "0.7941176470588235\n",
      "Now Testing: ZRX_BTC\n"
     ]
    },
    {
     "name": "stderr",
     "output_type": "stream",
     "text": [
      "100%|██████████| 11511/11511 [00:00<00:00, 12366.09it/s]\n"
     ]
    },
    {
     "data": {
      "text/html": [
       "<div>\n",
       "<style scoped>\n",
       "    .dataframe tbody tr th:only-of-type {\n",
       "        vertical-align: middle;\n",
       "    }\n",
       "\n",
       "    .dataframe tbody tr th {\n",
       "        vertical-align: top;\n",
       "    }\n",
       "\n",
       "    .dataframe thead th {\n",
       "        text-align: right;\n",
       "    }\n",
       "</style>\n",
       "<table border=\"1\" class=\"dataframe\">\n",
       "  <thead>\n",
       "    <tr style=\"text-align: right;\">\n",
       "      <th></th>\n",
       "      <th>R square</th>\n",
       "      <th>MSE</th>\n",
       "      <th>MAPE</th>\n",
       "    </tr>\n",
       "  </thead>\n",
       "  <tbody>\n",
       "    <tr>\n",
       "      <th>ZRX_BTC, Best Scoring Mins: 8000</th>\n",
       "      <td>0.998508</td>\n",
       "      <td>2.988217e-16</td>\n",
       "      <td>0.001156</td>\n",
       "    </tr>\n",
       "    <tr>\n",
       "      <th>Median Pathes</th>\n",
       "      <td>0.998492</td>\n",
       "      <td>3.020043e-16</td>\n",
       "      <td>0.001171</td>\n",
       "    </tr>\n",
       "  </tbody>\n",
       "</table>\n",
       "</div>"
      ],
      "text/plain": [
       "                                  R square           MSE      MAPE\n",
       "ZRX_BTC, Best Scoring Mins: 8000  0.998508  2.988217e-16  0.001156\n",
       "Median Pathes                     0.998492  3.020043e-16  0.001171"
      ]
     },
     "metadata": {},
     "output_type": "display_data"
    },
    {
     "name": "stdout",
     "output_type": "stream",
     "text": [
      "0.8088235294117647\n",
      "October Task Complete!\n",
      "All results have been export to the aimed folders. \n",
      "Over 0.8088235294117647 of cases are better than median pathes.\n"
     ]
    },
    {
     "data": {
      "image/png": "[encoded data removed]",
      "text/plain": [
       "<Figure size 640x480 with 1 Axes>"
      ]
     },
     "metadata": {},
     "output_type": "display_data"
    }
   ],
   "source": [
    "tickers = test\n",
    "pre_vals = {}\n",
    "exchanges = ['1', '8', '9', '10', '12', '16', '19', '25', '28', '30']\n",
    "testing_exchanges = ['8', '9', '10', '12', '16', '19', '25', '28', '30']\n",
    "input_path = \"aggre_csv2/\"\n",
    "path_out1 = \"Output1/\"\n",
    "path_out2 = \"Output2/\"\n",
    "path_out3 = \"Output3/\"\n",
    "best_parameters_path = \"Best Patameters.csv\"\n",
    "best_var_path = 'VarParams.csv'\n",
    "\n",
    "Delete_all_CSV(path_out1)  \n",
    "Delete_all_CSV(path_out2)   \n",
    "Delete_all_PNG(path_out3)   \n",
    "count_better = 0\n",
    "\n",
    "month = \"November\" if input_path == \"aggre_csv/\" else \"October\"\n",
    "\n",
    "for ticker in tickers: \n",
    "    print(\"Now Testing:\", ticker)\n",
    "    n_scoring_window = get_best_parameter(best_parameters_path, ticker)\n",
    "    exchanges_data_df = pd.read_csv(input_path+ticker.replace('/','_')+'.csv',index_col='time')\n",
    "    exchanges_data_df.index = pd.to_datetime(exchanges_data_df.index)       \n",
    "    index_prices, start_date = cluster_pricing_tester(ticker,n_scoring_window,True,best_var_path,testing_exchanges,False,input_path)\n",
    "    [r2, med_r2], [mse, med_mse], [mape, med_mape] = generate_result(ticker, n_scoring_window, index_prices, exchanges_data_df, 10, start_date,month)\n",
    "    if round(r2, 4) >= round(med_r2, 4):\n",
    "        count_better += 1 \n",
    "    print(count_better/len(tickers))\n",
    "\n",
    "print(month+\" Task Complete!\")\n",
    "print(\"All results have been export to the aimed folders. \")\n",
    "print(\"Over\", count_better/len(tickers),\"of cases are better than median pathes.\")\n",
    "\n",
    "File \n",
    "\n",
    "pie, texts, autotexts = plt.pie([count_better, len(tickers)-count_better], labels=[\"Better than Median\", \"Worse than Median\"], autopct=autopct_format, startangle=90, textprops={'fontsize': 18})\n",
    "\n",
    "for autotext in autotexts:\n",
    "    autotext.set_color('white')\n",
    "\n",
    "plt.title(month + \" Result\")\n",
    "plt.show()\n"
   ]
  },
  {
   "attachments": {},
   "cell_type": "markdown",
   "metadata": {},
   "source": [
    "<center><img src=\"https://news.illinois.edu/files/6367/543635/116641.jpg\" alt=\"University of Illinois\" width=\"250\"/></center>"
   ]
  }
 ],
 "metadata": {
  "kernelspec": {
   "display_name": "Python 3",
   "language": "python",
   "name": "python3"
  },
  "language_info": {
   "codemirror_mode": {
    "name": "ipython",
    "version": 3
   },
   "file_extension": ".py",
   "mimetype": "text/x-python",
   "name": "python",
   "nbconvert_exporter": "python",
   "pygments_lexer": "ipython3",
   "version": "3.11.1"
  },
  "orig_nbformat": 4
 },
 "nbformat": 4,
 "nbformat_minor": 2
}
